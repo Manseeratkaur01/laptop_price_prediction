{
 "cells": [
  {
   "cell_type": "code",
   "execution_count": 247,
   "id": "520b1b04",
   "metadata": {},
   "outputs": [],
   "source": [
    "import numpy as np\n",
    "import pandas as pd\n",
    "import matplotlib.pyplot as plt\n",
    "import seaborn as sns"
   ]
  },
  {
   "cell_type": "code",
   "execution_count": 248,
   "id": "5fd51b2f",
   "metadata": {},
   "outputs": [],
   "source": [
    "df=pd.read_csv('laptop_data.csv')"
   ]
  },
  {
   "cell_type": "code",
   "execution_count": 249,
   "id": "c24e939e",
   "metadata": {},
   "outputs": [
    {
     "data": {
      "text/html": [
       "<div>\n",
       "<style scoped>\n",
       "    .dataframe tbody tr th:only-of-type {\n",
       "        vertical-align: middle;\n",
       "    }\n",
       "\n",
       "    .dataframe tbody tr th {\n",
       "        vertical-align: top;\n",
       "    }\n",
       "\n",
       "    .dataframe thead th {\n",
       "        text-align: right;\n",
       "    }\n",
       "</style>\n",
       "<table border=\"1\" class=\"dataframe\">\n",
       "  <thead>\n",
       "    <tr style=\"text-align: right;\">\n",
       "      <th></th>\n",
       "      <th>Unnamed: 0</th>\n",
       "      <th>Company</th>\n",
       "      <th>TypeName</th>\n",
       "      <th>Inches</th>\n",
       "      <th>ScreenResolution</th>\n",
       "      <th>Cpu</th>\n",
       "      <th>Ram</th>\n",
       "      <th>Memory</th>\n",
       "      <th>Gpu</th>\n",
       "      <th>OpSys</th>\n",
       "      <th>Weight</th>\n",
       "      <th>Price</th>\n",
       "    </tr>\n",
       "  </thead>\n",
       "  <tbody>\n",
       "    <tr>\n",
       "      <th>0</th>\n",
       "      <td>0</td>\n",
       "      <td>Apple</td>\n",
       "      <td>Ultrabook</td>\n",
       "      <td>13.3</td>\n",
       "      <td>IPS Panel Retina Display 2560x1600</td>\n",
       "      <td>Intel Core i5 2.3GHz</td>\n",
       "      <td>8GB</td>\n",
       "      <td>128GB SSD</td>\n",
       "      <td>Intel Iris Plus Graphics 640</td>\n",
       "      <td>macOS</td>\n",
       "      <td>1.37kg</td>\n",
       "      <td>71378.6832</td>\n",
       "    </tr>\n",
       "    <tr>\n",
       "      <th>1</th>\n",
       "      <td>1</td>\n",
       "      <td>Apple</td>\n",
       "      <td>Ultrabook</td>\n",
       "      <td>13.3</td>\n",
       "      <td>1440x900</td>\n",
       "      <td>Intel Core i5 1.8GHz</td>\n",
       "      <td>8GB</td>\n",
       "      <td>128GB Flash Storage</td>\n",
       "      <td>Intel HD Graphics 6000</td>\n",
       "      <td>macOS</td>\n",
       "      <td>1.34kg</td>\n",
       "      <td>47895.5232</td>\n",
       "    </tr>\n",
       "    <tr>\n",
       "      <th>2</th>\n",
       "      <td>2</td>\n",
       "      <td>HP</td>\n",
       "      <td>Notebook</td>\n",
       "      <td>15.6</td>\n",
       "      <td>Full HD 1920x1080</td>\n",
       "      <td>Intel Core i5 7200U 2.5GHz</td>\n",
       "      <td>8GB</td>\n",
       "      <td>256GB SSD</td>\n",
       "      <td>Intel HD Graphics 620</td>\n",
       "      <td>No OS</td>\n",
       "      <td>1.86kg</td>\n",
       "      <td>30636.0000</td>\n",
       "    </tr>\n",
       "    <tr>\n",
       "      <th>3</th>\n",
       "      <td>3</td>\n",
       "      <td>Apple</td>\n",
       "      <td>Ultrabook</td>\n",
       "      <td>15.4</td>\n",
       "      <td>IPS Panel Retina Display 2880x1800</td>\n",
       "      <td>Intel Core i7 2.7GHz</td>\n",
       "      <td>16GB</td>\n",
       "      <td>512GB SSD</td>\n",
       "      <td>AMD Radeon Pro 455</td>\n",
       "      <td>macOS</td>\n",
       "      <td>1.83kg</td>\n",
       "      <td>135195.3360</td>\n",
       "    </tr>\n",
       "    <tr>\n",
       "      <th>4</th>\n",
       "      <td>4</td>\n",
       "      <td>Apple</td>\n",
       "      <td>Ultrabook</td>\n",
       "      <td>13.3</td>\n",
       "      <td>IPS Panel Retina Display 2560x1600</td>\n",
       "      <td>Intel Core i5 3.1GHz</td>\n",
       "      <td>8GB</td>\n",
       "      <td>256GB SSD</td>\n",
       "      <td>Intel Iris Plus Graphics 650</td>\n",
       "      <td>macOS</td>\n",
       "      <td>1.37kg</td>\n",
       "      <td>96095.8080</td>\n",
       "    </tr>\n",
       "  </tbody>\n",
       "</table>\n",
       "</div>"
      ],
      "text/plain": [
       "   Unnamed: 0 Company   TypeName  Inches                    ScreenResolution  \\\n",
       "0           0   Apple  Ultrabook    13.3  IPS Panel Retina Display 2560x1600   \n",
       "1           1   Apple  Ultrabook    13.3                            1440x900   \n",
       "2           2      HP   Notebook    15.6                   Full HD 1920x1080   \n",
       "3           3   Apple  Ultrabook    15.4  IPS Panel Retina Display 2880x1800   \n",
       "4           4   Apple  Ultrabook    13.3  IPS Panel Retina Display 2560x1600   \n",
       "\n",
       "                          Cpu   Ram               Memory  \\\n",
       "0        Intel Core i5 2.3GHz   8GB            128GB SSD   \n",
       "1        Intel Core i5 1.8GHz   8GB  128GB Flash Storage   \n",
       "2  Intel Core i5 7200U 2.5GHz   8GB            256GB SSD   \n",
       "3        Intel Core i7 2.7GHz  16GB            512GB SSD   \n",
       "4        Intel Core i5 3.1GHz   8GB            256GB SSD   \n",
       "\n",
       "                            Gpu  OpSys  Weight        Price  \n",
       "0  Intel Iris Plus Graphics 640  macOS  1.37kg   71378.6832  \n",
       "1        Intel HD Graphics 6000  macOS  1.34kg   47895.5232  \n",
       "2         Intel HD Graphics 620  No OS  1.86kg   30636.0000  \n",
       "3            AMD Radeon Pro 455  macOS  1.83kg  135195.3360  \n",
       "4  Intel Iris Plus Graphics 650  macOS  1.37kg   96095.8080  "
      ]
     },
     "execution_count": 249,
     "metadata": {},
     "output_type": "execute_result"
    }
   ],
   "source": [
    "df.head()"
   ]
  },
  {
   "cell_type": "code",
   "execution_count": 250,
   "id": "baad0db3",
   "metadata": {},
   "outputs": [
    {
     "data": {
      "text/plain": [
       "(1303, 12)"
      ]
     },
     "execution_count": 250,
     "metadata": {},
     "output_type": "execute_result"
    }
   ],
   "source": [
    "df.shape"
   ]
  },
  {
   "cell_type": "code",
   "execution_count": 251,
   "id": "2f178736",
   "metadata": {},
   "outputs": [
    {
     "name": "stdout",
     "output_type": "stream",
     "text": [
      "<class 'pandas.core.frame.DataFrame'>\n",
      "RangeIndex: 1303 entries, 0 to 1302\n",
      "Data columns (total 12 columns):\n",
      " #   Column            Non-Null Count  Dtype  \n",
      "---  ------            --------------  -----  \n",
      " 0   Unnamed: 0        1303 non-null   int64  \n",
      " 1   Company           1303 non-null   object \n",
      " 2   TypeName          1303 non-null   object \n",
      " 3   Inches            1303 non-null   float64\n",
      " 4   ScreenResolution  1303 non-null   object \n",
      " 5   Cpu               1303 non-null   object \n",
      " 6   Ram               1303 non-null   object \n",
      " 7   Memory            1303 non-null   object \n",
      " 8   Gpu               1303 non-null   object \n",
      " 9   OpSys             1303 non-null   object \n",
      " 10  Weight            1303 non-null   object \n",
      " 11  Price             1303 non-null   float64\n",
      "dtypes: float64(2), int64(1), object(9)\n",
      "memory usage: 122.3+ KB\n"
     ]
    }
   ],
   "source": [
    "df.info()"
   ]
  },
  {
   "cell_type": "code",
   "execution_count": 252,
   "id": "286276b3",
   "metadata": {},
   "outputs": [
    {
     "data": {
      "text/plain": [
       "0"
      ]
     },
     "execution_count": 252,
     "metadata": {},
     "output_type": "execute_result"
    }
   ],
   "source": [
    "df.duplicated().sum()"
   ]
  },
  {
   "cell_type": "code",
   "execution_count": 253,
   "id": "2cff6e5f",
   "metadata": {},
   "outputs": [
    {
     "data": {
      "text/plain": [
       "Unnamed: 0          0\n",
       "Company             0\n",
       "TypeName            0\n",
       "Inches              0\n",
       "ScreenResolution    0\n",
       "Cpu                 0\n",
       "Ram                 0\n",
       "Memory              0\n",
       "Gpu                 0\n",
       "OpSys               0\n",
       "Weight              0\n",
       "Price               0\n",
       "dtype: int64"
      ]
     },
     "execution_count": 253,
     "metadata": {},
     "output_type": "execute_result"
    }
   ],
   "source": [
    "df.isnull().sum()"
   ]
  },
  {
   "cell_type": "code",
   "execution_count": 254,
   "id": "8c0eef86",
   "metadata": {},
   "outputs": [],
   "source": [
    "#df.drop(columns=['Unnamed: 0'],inplace=True)\n",
    "df.drop(columns=['Unnamed: 0'],inplace=True)"
   ]
  },
  {
   "cell_type": "code",
   "execution_count": 255,
   "id": "aff8dd9b",
   "metadata": {},
   "outputs": [
    {
     "data": {
      "text/html": [
       "<div>\n",
       "<style scoped>\n",
       "    .dataframe tbody tr th:only-of-type {\n",
       "        vertical-align: middle;\n",
       "    }\n",
       "\n",
       "    .dataframe tbody tr th {\n",
       "        vertical-align: top;\n",
       "    }\n",
       "\n",
       "    .dataframe thead th {\n",
       "        text-align: right;\n",
       "    }\n",
       "</style>\n",
       "<table border=\"1\" class=\"dataframe\">\n",
       "  <thead>\n",
       "    <tr style=\"text-align: right;\">\n",
       "      <th></th>\n",
       "      <th>Company</th>\n",
       "      <th>TypeName</th>\n",
       "      <th>Inches</th>\n",
       "      <th>ScreenResolution</th>\n",
       "      <th>Cpu</th>\n",
       "      <th>Ram</th>\n",
       "      <th>Memory</th>\n",
       "      <th>Gpu</th>\n",
       "      <th>OpSys</th>\n",
       "      <th>Weight</th>\n",
       "      <th>Price</th>\n",
       "    </tr>\n",
       "  </thead>\n",
       "  <tbody>\n",
       "    <tr>\n",
       "      <th>0</th>\n",
       "      <td>Apple</td>\n",
       "      <td>Ultrabook</td>\n",
       "      <td>13.3</td>\n",
       "      <td>IPS Panel Retina Display 2560x1600</td>\n",
       "      <td>Intel Core i5 2.3GHz</td>\n",
       "      <td>8GB</td>\n",
       "      <td>128GB SSD</td>\n",
       "      <td>Intel Iris Plus Graphics 640</td>\n",
       "      <td>macOS</td>\n",
       "      <td>1.37kg</td>\n",
       "      <td>71378.6832</td>\n",
       "    </tr>\n",
       "    <tr>\n",
       "      <th>1</th>\n",
       "      <td>Apple</td>\n",
       "      <td>Ultrabook</td>\n",
       "      <td>13.3</td>\n",
       "      <td>1440x900</td>\n",
       "      <td>Intel Core i5 1.8GHz</td>\n",
       "      <td>8GB</td>\n",
       "      <td>128GB Flash Storage</td>\n",
       "      <td>Intel HD Graphics 6000</td>\n",
       "      <td>macOS</td>\n",
       "      <td>1.34kg</td>\n",
       "      <td>47895.5232</td>\n",
       "    </tr>\n",
       "    <tr>\n",
       "      <th>2</th>\n",
       "      <td>HP</td>\n",
       "      <td>Notebook</td>\n",
       "      <td>15.6</td>\n",
       "      <td>Full HD 1920x1080</td>\n",
       "      <td>Intel Core i5 7200U 2.5GHz</td>\n",
       "      <td>8GB</td>\n",
       "      <td>256GB SSD</td>\n",
       "      <td>Intel HD Graphics 620</td>\n",
       "      <td>No OS</td>\n",
       "      <td>1.86kg</td>\n",
       "      <td>30636.0000</td>\n",
       "    </tr>\n",
       "    <tr>\n",
       "      <th>3</th>\n",
       "      <td>Apple</td>\n",
       "      <td>Ultrabook</td>\n",
       "      <td>15.4</td>\n",
       "      <td>IPS Panel Retina Display 2880x1800</td>\n",
       "      <td>Intel Core i7 2.7GHz</td>\n",
       "      <td>16GB</td>\n",
       "      <td>512GB SSD</td>\n",
       "      <td>AMD Radeon Pro 455</td>\n",
       "      <td>macOS</td>\n",
       "      <td>1.83kg</td>\n",
       "      <td>135195.3360</td>\n",
       "    </tr>\n",
       "    <tr>\n",
       "      <th>4</th>\n",
       "      <td>Apple</td>\n",
       "      <td>Ultrabook</td>\n",
       "      <td>13.3</td>\n",
       "      <td>IPS Panel Retina Display 2560x1600</td>\n",
       "      <td>Intel Core i5 3.1GHz</td>\n",
       "      <td>8GB</td>\n",
       "      <td>256GB SSD</td>\n",
       "      <td>Intel Iris Plus Graphics 650</td>\n",
       "      <td>macOS</td>\n",
       "      <td>1.37kg</td>\n",
       "      <td>96095.8080</td>\n",
       "    </tr>\n",
       "  </tbody>\n",
       "</table>\n",
       "</div>"
      ],
      "text/plain": [
       "  Company   TypeName  Inches                    ScreenResolution  \\\n",
       "0   Apple  Ultrabook    13.3  IPS Panel Retina Display 2560x1600   \n",
       "1   Apple  Ultrabook    13.3                            1440x900   \n",
       "2      HP   Notebook    15.6                   Full HD 1920x1080   \n",
       "3   Apple  Ultrabook    15.4  IPS Panel Retina Display 2880x1800   \n",
       "4   Apple  Ultrabook    13.3  IPS Panel Retina Display 2560x1600   \n",
       "\n",
       "                          Cpu   Ram               Memory  \\\n",
       "0        Intel Core i5 2.3GHz   8GB            128GB SSD   \n",
       "1        Intel Core i5 1.8GHz   8GB  128GB Flash Storage   \n",
       "2  Intel Core i5 7200U 2.5GHz   8GB            256GB SSD   \n",
       "3        Intel Core i7 2.7GHz  16GB            512GB SSD   \n",
       "4        Intel Core i5 3.1GHz   8GB            256GB SSD   \n",
       "\n",
       "                            Gpu  OpSys  Weight        Price  \n",
       "0  Intel Iris Plus Graphics 640  macOS  1.37kg   71378.6832  \n",
       "1        Intel HD Graphics 6000  macOS  1.34kg   47895.5232  \n",
       "2         Intel HD Graphics 620  No OS  1.86kg   30636.0000  \n",
       "3            AMD Radeon Pro 455  macOS  1.83kg  135195.3360  \n",
       "4  Intel Iris Plus Graphics 650  macOS  1.37kg   96095.8080  "
      ]
     },
     "execution_count": 255,
     "metadata": {},
     "output_type": "execute_result"
    }
   ],
   "source": [
    "df.head()"
   ]
  },
  {
   "cell_type": "code",
   "execution_count": 256,
   "id": "c08208ae",
   "metadata": {},
   "outputs": [],
   "source": [
    "#remove the gb and kg from the ram an weight\n",
    "df['Ram']=df['Ram'].str.replace('GB','')\n",
    "df['Weight']=df['Weight'].str.replace('kg','')"
   ]
  },
  {
   "cell_type": "code",
   "execution_count": 257,
   "id": "46ca5d91",
   "metadata": {},
   "outputs": [
    {
     "data": {
      "text/html": [
       "<div>\n",
       "<style scoped>\n",
       "    .dataframe tbody tr th:only-of-type {\n",
       "        vertical-align: middle;\n",
       "    }\n",
       "\n",
       "    .dataframe tbody tr th {\n",
       "        vertical-align: top;\n",
       "    }\n",
       "\n",
       "    .dataframe thead th {\n",
       "        text-align: right;\n",
       "    }\n",
       "</style>\n",
       "<table border=\"1\" class=\"dataframe\">\n",
       "  <thead>\n",
       "    <tr style=\"text-align: right;\">\n",
       "      <th></th>\n",
       "      <th>Company</th>\n",
       "      <th>TypeName</th>\n",
       "      <th>Inches</th>\n",
       "      <th>ScreenResolution</th>\n",
       "      <th>Cpu</th>\n",
       "      <th>Ram</th>\n",
       "      <th>Memory</th>\n",
       "      <th>Gpu</th>\n",
       "      <th>OpSys</th>\n",
       "      <th>Weight</th>\n",
       "      <th>Price</th>\n",
       "    </tr>\n",
       "  </thead>\n",
       "  <tbody>\n",
       "    <tr>\n",
       "      <th>0</th>\n",
       "      <td>Apple</td>\n",
       "      <td>Ultrabook</td>\n",
       "      <td>13.3</td>\n",
       "      <td>IPS Panel Retina Display 2560x1600</td>\n",
       "      <td>Intel Core i5 2.3GHz</td>\n",
       "      <td>8</td>\n",
       "      <td>128GB SSD</td>\n",
       "      <td>Intel Iris Plus Graphics 640</td>\n",
       "      <td>macOS</td>\n",
       "      <td>1.37</td>\n",
       "      <td>71378.6832</td>\n",
       "    </tr>\n",
       "    <tr>\n",
       "      <th>1</th>\n",
       "      <td>Apple</td>\n",
       "      <td>Ultrabook</td>\n",
       "      <td>13.3</td>\n",
       "      <td>1440x900</td>\n",
       "      <td>Intel Core i5 1.8GHz</td>\n",
       "      <td>8</td>\n",
       "      <td>128GB Flash Storage</td>\n",
       "      <td>Intel HD Graphics 6000</td>\n",
       "      <td>macOS</td>\n",
       "      <td>1.34</td>\n",
       "      <td>47895.5232</td>\n",
       "    </tr>\n",
       "    <tr>\n",
       "      <th>2</th>\n",
       "      <td>HP</td>\n",
       "      <td>Notebook</td>\n",
       "      <td>15.6</td>\n",
       "      <td>Full HD 1920x1080</td>\n",
       "      <td>Intel Core i5 7200U 2.5GHz</td>\n",
       "      <td>8</td>\n",
       "      <td>256GB SSD</td>\n",
       "      <td>Intel HD Graphics 620</td>\n",
       "      <td>No OS</td>\n",
       "      <td>1.86</td>\n",
       "      <td>30636.0000</td>\n",
       "    </tr>\n",
       "    <tr>\n",
       "      <th>3</th>\n",
       "      <td>Apple</td>\n",
       "      <td>Ultrabook</td>\n",
       "      <td>15.4</td>\n",
       "      <td>IPS Panel Retina Display 2880x1800</td>\n",
       "      <td>Intel Core i7 2.7GHz</td>\n",
       "      <td>16</td>\n",
       "      <td>512GB SSD</td>\n",
       "      <td>AMD Radeon Pro 455</td>\n",
       "      <td>macOS</td>\n",
       "      <td>1.83</td>\n",
       "      <td>135195.3360</td>\n",
       "    </tr>\n",
       "    <tr>\n",
       "      <th>4</th>\n",
       "      <td>Apple</td>\n",
       "      <td>Ultrabook</td>\n",
       "      <td>13.3</td>\n",
       "      <td>IPS Panel Retina Display 2560x1600</td>\n",
       "      <td>Intel Core i5 3.1GHz</td>\n",
       "      <td>8</td>\n",
       "      <td>256GB SSD</td>\n",
       "      <td>Intel Iris Plus Graphics 650</td>\n",
       "      <td>macOS</td>\n",
       "      <td>1.37</td>\n",
       "      <td>96095.8080</td>\n",
       "    </tr>\n",
       "    <tr>\n",
       "      <th>...</th>\n",
       "      <td>...</td>\n",
       "      <td>...</td>\n",
       "      <td>...</td>\n",
       "      <td>...</td>\n",
       "      <td>...</td>\n",
       "      <td>...</td>\n",
       "      <td>...</td>\n",
       "      <td>...</td>\n",
       "      <td>...</td>\n",
       "      <td>...</td>\n",
       "      <td>...</td>\n",
       "    </tr>\n",
       "    <tr>\n",
       "      <th>1298</th>\n",
       "      <td>Lenovo</td>\n",
       "      <td>2 in 1 Convertible</td>\n",
       "      <td>14.0</td>\n",
       "      <td>IPS Panel Full HD / Touchscreen 1920x1080</td>\n",
       "      <td>Intel Core i7 6500U 2.5GHz</td>\n",
       "      <td>4</td>\n",
       "      <td>128GB SSD</td>\n",
       "      <td>Intel HD Graphics 520</td>\n",
       "      <td>Windows 10</td>\n",
       "      <td>1.8</td>\n",
       "      <td>33992.6400</td>\n",
       "    </tr>\n",
       "    <tr>\n",
       "      <th>1299</th>\n",
       "      <td>Lenovo</td>\n",
       "      <td>2 in 1 Convertible</td>\n",
       "      <td>13.3</td>\n",
       "      <td>IPS Panel Quad HD+ / Touchscreen 3200x1800</td>\n",
       "      <td>Intel Core i7 6500U 2.5GHz</td>\n",
       "      <td>16</td>\n",
       "      <td>512GB SSD</td>\n",
       "      <td>Intel HD Graphics 520</td>\n",
       "      <td>Windows 10</td>\n",
       "      <td>1.3</td>\n",
       "      <td>79866.7200</td>\n",
       "    </tr>\n",
       "    <tr>\n",
       "      <th>1300</th>\n",
       "      <td>Lenovo</td>\n",
       "      <td>Notebook</td>\n",
       "      <td>14.0</td>\n",
       "      <td>1366x768</td>\n",
       "      <td>Intel Celeron Dual Core N3050 1.6GHz</td>\n",
       "      <td>2</td>\n",
       "      <td>64GB Flash Storage</td>\n",
       "      <td>Intel HD Graphics</td>\n",
       "      <td>Windows 10</td>\n",
       "      <td>1.5</td>\n",
       "      <td>12201.1200</td>\n",
       "    </tr>\n",
       "    <tr>\n",
       "      <th>1301</th>\n",
       "      <td>HP</td>\n",
       "      <td>Notebook</td>\n",
       "      <td>15.6</td>\n",
       "      <td>1366x768</td>\n",
       "      <td>Intel Core i7 6500U 2.5GHz</td>\n",
       "      <td>6</td>\n",
       "      <td>1TB HDD</td>\n",
       "      <td>AMD Radeon R5 M330</td>\n",
       "      <td>Windows 10</td>\n",
       "      <td>2.19</td>\n",
       "      <td>40705.9200</td>\n",
       "    </tr>\n",
       "    <tr>\n",
       "      <th>1302</th>\n",
       "      <td>Asus</td>\n",
       "      <td>Notebook</td>\n",
       "      <td>15.6</td>\n",
       "      <td>1366x768</td>\n",
       "      <td>Intel Celeron Dual Core N3050 1.6GHz</td>\n",
       "      <td>4</td>\n",
       "      <td>500GB HDD</td>\n",
       "      <td>Intel HD Graphics</td>\n",
       "      <td>Windows 10</td>\n",
       "      <td>2.2</td>\n",
       "      <td>19660.3200</td>\n",
       "    </tr>\n",
       "  </tbody>\n",
       "</table>\n",
       "<p>1303 rows × 11 columns</p>\n",
       "</div>"
      ],
      "text/plain": [
       "     Company            TypeName  Inches  \\\n",
       "0      Apple           Ultrabook    13.3   \n",
       "1      Apple           Ultrabook    13.3   \n",
       "2         HP            Notebook    15.6   \n",
       "3      Apple           Ultrabook    15.4   \n",
       "4      Apple           Ultrabook    13.3   \n",
       "...      ...                 ...     ...   \n",
       "1298  Lenovo  2 in 1 Convertible    14.0   \n",
       "1299  Lenovo  2 in 1 Convertible    13.3   \n",
       "1300  Lenovo            Notebook    14.0   \n",
       "1301      HP            Notebook    15.6   \n",
       "1302    Asus            Notebook    15.6   \n",
       "\n",
       "                                ScreenResolution  \\\n",
       "0             IPS Panel Retina Display 2560x1600   \n",
       "1                                       1440x900   \n",
       "2                              Full HD 1920x1080   \n",
       "3             IPS Panel Retina Display 2880x1800   \n",
       "4             IPS Panel Retina Display 2560x1600   \n",
       "...                                          ...   \n",
       "1298   IPS Panel Full HD / Touchscreen 1920x1080   \n",
       "1299  IPS Panel Quad HD+ / Touchscreen 3200x1800   \n",
       "1300                                    1366x768   \n",
       "1301                                    1366x768   \n",
       "1302                                    1366x768   \n",
       "\n",
       "                                       Cpu Ram               Memory  \\\n",
       "0                     Intel Core i5 2.3GHz   8            128GB SSD   \n",
       "1                     Intel Core i5 1.8GHz   8  128GB Flash Storage   \n",
       "2               Intel Core i5 7200U 2.5GHz   8            256GB SSD   \n",
       "3                     Intel Core i7 2.7GHz  16            512GB SSD   \n",
       "4                     Intel Core i5 3.1GHz   8            256GB SSD   \n",
       "...                                    ...  ..                  ...   \n",
       "1298            Intel Core i7 6500U 2.5GHz   4            128GB SSD   \n",
       "1299            Intel Core i7 6500U 2.5GHz  16            512GB SSD   \n",
       "1300  Intel Celeron Dual Core N3050 1.6GHz   2   64GB Flash Storage   \n",
       "1301            Intel Core i7 6500U 2.5GHz   6              1TB HDD   \n",
       "1302  Intel Celeron Dual Core N3050 1.6GHz   4            500GB HDD   \n",
       "\n",
       "                               Gpu       OpSys Weight        Price  \n",
       "0     Intel Iris Plus Graphics 640       macOS   1.37   71378.6832  \n",
       "1           Intel HD Graphics 6000       macOS   1.34   47895.5232  \n",
       "2            Intel HD Graphics 620       No OS   1.86   30636.0000  \n",
       "3               AMD Radeon Pro 455       macOS   1.83  135195.3360  \n",
       "4     Intel Iris Plus Graphics 650       macOS   1.37   96095.8080  \n",
       "...                            ...         ...    ...          ...  \n",
       "1298         Intel HD Graphics 520  Windows 10    1.8   33992.6400  \n",
       "1299         Intel HD Graphics 520  Windows 10    1.3   79866.7200  \n",
       "1300             Intel HD Graphics  Windows 10    1.5   12201.1200  \n",
       "1301            AMD Radeon R5 M330  Windows 10   2.19   40705.9200  \n",
       "1302             Intel HD Graphics  Windows 10    2.2   19660.3200  \n",
       "\n",
       "[1303 rows x 11 columns]"
      ]
     },
     "execution_count": 257,
     "metadata": {},
     "output_type": "execute_result"
    }
   ],
   "source": [
    "df\n"
   ]
  },
  {
   "cell_type": "code",
   "execution_count": 258,
   "id": "84c1075d",
   "metadata": {},
   "outputs": [],
   "source": [
    "df['Ram']=df['Ram'].astype('int32')\n",
    "df['Weight']=df['Weight'].astype('float32')"
   ]
  },
  {
   "cell_type": "code",
   "execution_count": 259,
   "id": "98837026",
   "metadata": {},
   "outputs": [
    {
     "name": "stdout",
     "output_type": "stream",
     "text": [
      "<class 'pandas.core.frame.DataFrame'>\n",
      "RangeIndex: 1303 entries, 0 to 1302\n",
      "Data columns (total 11 columns):\n",
      " #   Column            Non-Null Count  Dtype  \n",
      "---  ------            --------------  -----  \n",
      " 0   Company           1303 non-null   object \n",
      " 1   TypeName          1303 non-null   object \n",
      " 2   Inches            1303 non-null   float64\n",
      " 3   ScreenResolution  1303 non-null   object \n",
      " 4   Cpu               1303 non-null   object \n",
      " 5   Ram               1303 non-null   int32  \n",
      " 6   Memory            1303 non-null   object \n",
      " 7   Gpu               1303 non-null   object \n",
      " 8   OpSys             1303 non-null   object \n",
      " 9   Weight            1303 non-null   float32\n",
      " 10  Price             1303 non-null   float64\n",
      "dtypes: float32(1), float64(2), int32(1), object(7)\n",
      "memory usage: 101.9+ KB\n"
     ]
    }
   ],
   "source": [
    "df.info()"
   ]
  },
  {
   "cell_type": "code",
   "execution_count": 260,
   "id": "6f388edd",
   "metadata": {},
   "outputs": [
    {
     "name": "stderr",
     "output_type": "stream",
     "text": [
      "C:\\Users\\HP PC\\AppData\\Local\\Temp\\ipykernel_11816\\834922981.py:1: UserWarning: \n",
      "\n",
      "`distplot` is a deprecated function and will be removed in seaborn v0.14.0.\n",
      "\n",
      "Please adapt your code to use either `displot` (a figure-level function with\n",
      "similar flexibility) or `histplot` (an axes-level function for histograms).\n",
      "\n",
      "For a guide to updating your code to use the new functions, please see\n",
      "https://gist.github.com/mwaskom/de44147ed2974457ad6372750bbe5751\n",
      "\n",
      "  sns.distplot(df['Price'])\n"
     ]
    },
    {
     "data": {
      "text/plain": [
       "<Axes: xlabel='Price', ylabel='Density'>"
      ]
     },
     "execution_count": 260,
     "metadata": {},
     "output_type": "execute_result"
    },
    {
     "data": {
      "image/png": "[encoded data removed]",
      "text/plain": [
       "<Figure size 640x480 with 1 Axes>"
      ]
     },
     "metadata": {},
     "output_type": "display_data"
    }
   ],
   "source": [
    "sns.distplot(df['Price'])"
   ]
  },
  {
   "cell_type": "code",
   "execution_count": 261,
   "id": "7a82582d",
   "metadata": {},
   "outputs": [
    {
     "name": "stderr",
     "output_type": "stream",
     "text": [
      "C:\\Users\\HP PC\\anaconda3\\Lib\\site-packages\\seaborn\\axisgrid.py:118: UserWarning: The figure layout has changed to tight\n",
      "  self._figure.tight_layout(*args, **kwargs)\n"
     ]
    },
    {
     "data": {
      "text/plain": [
       "<seaborn.axisgrid.FacetGrid at 0x2d586091510>"
      ]
     },
     "execution_count": 261,
     "metadata": {},
     "output_type": "execute_result"
    },
    {
     "data": {
      "image/png": "[encoded data removed]",
      "text/plain": [
       "<Figure size 500x500 with 1 Axes>"
      ]
     },
     "metadata": {},
     "output_type": "display_data"
    }
   ],
   "source": [
    "sns.displot(df['Price'])"
   ]
  },
  {
   "cell_type": "code",
   "execution_count": 262,
   "id": "3631bc2a",
   "metadata": {},
   "outputs": [
    {
     "data": {
      "text/plain": [
       "<Axes: xlabel='Company'>"
      ]
     },
     "execution_count": 262,
     "metadata": {},
     "output_type": "execute_result"
    },
    {
     "data": {
      "image/png": "[encoded data removed]",
      "text/plain": [
       "<Figure size 640x480 with 1 Axes>"
      ]
     },
     "metadata": {},
     "output_type": "display_data"
    }
   ],
   "source": [
    "df['Company'].value_counts().plot()"
   ]
  },
  {
   "cell_type": "code",
   "execution_count": 263,
   "id": "0894aaf9",
   "metadata": {},
   "outputs": [
    {
     "data": {
      "image/png": "[encoded data removed]",
      "text/plain": [
       "<Figure size 1000x600 with 1 Axes>"
      ]
     },
     "metadata": {},
     "output_type": "display_data"
    }
   ],
   "source": [
    "df['Company'].value_counts().plot(kind='bar', color='skyblue', figsize=(10, 6), title='Company Distribution')\n",
    "\n",
    "plt.xticks(rotation=45)\n",
    "plt.show()\n"
   ]
  },
  {
   "cell_type": "code",
   "execution_count": 264,
   "id": "6fbf8408",
   "metadata": {},
   "outputs": [
    {
     "data": {
      "image/png": "[encoded data removed]",
      "text/plain": [
       "<Figure size 640x480 with 1 Axes>"
      ]
     },
     "metadata": {},
     "output_type": "display_data"
    }
   ],
   "source": [
    "sns.barplot(x=df['Company'], y=df['Price'])\n",
    "plt.xticks(rotation=45)\n",
    "plt.show()"
   ]
  },
  {
   "cell_type": "code",
   "execution_count": 265,
   "id": "2afafd8d",
   "metadata": {},
   "outputs": [
    {
     "data": {
      "text/plain": [
       "<Axes: xlabel='TypeName'>"
      ]
     },
     "execution_count": 265,
     "metadata": {},
     "output_type": "execute_result"
    },
    {
     "data": {
      "image/png": "[encoded data removed]",
      "text/plain": [
       "<Figure size 640x480 with 1 Axes>"
      ]
     },
     "metadata": {},
     "output_type": "display_data"
    }
   ],
   "source": [
    "df['TypeName'].value_counts().plot(kind='bar')"
   ]
  },
  {
   "cell_type": "code",
   "execution_count": 266,
   "id": "7dbdb945",
   "metadata": {},
   "outputs": [
    {
     "data": {
      "image/png": "[encoded data removed]",
      "text/plain": [
       "<Figure size 640x480 with 1 Axes>"
      ]
     },
     "metadata": {},
     "output_type": "display_data"
    }
   ],
   "source": [
    "sns.barplot(x=df['TypeName'], y=df['Price'])\n",
    "plt.xticks(rotation=45)\n",
    "plt.show()"
   ]
  },
  {
   "cell_type": "code",
   "execution_count": 267,
   "id": "d3472457",
   "metadata": {},
   "outputs": [
    {
     "name": "stderr",
     "output_type": "stream",
     "text": [
      "C:\\Users\\HP PC\\AppData\\Local\\Temp\\ipykernel_11816\\1439577752.py:1: UserWarning: \n",
      "\n",
      "`distplot` is a deprecated function and will be removed in seaborn v0.14.0.\n",
      "\n",
      "Please adapt your code to use either `displot` (a figure-level function with\n",
      "similar flexibility) or `histplot` (an axes-level function for histograms).\n",
      "\n",
      "For a guide to updating your code to use the new functions, please see\n",
      "https://gist.github.com/mwaskom/de44147ed2974457ad6372750bbe5751\n",
      "\n",
      "  sns.distplot(df['Inches'])\n"
     ]
    },
    {
     "data": {
      "text/plain": [
       "<Axes: xlabel='Inches', ylabel='Density'>"
      ]
     },
     "execution_count": 267,
     "metadata": {},
     "output_type": "execute_result"
    },
    {
     "data": {
      "image/png": "[encoded data removed]",
      "text/plain": [
       "<Figure size 640x480 with 1 Axes>"
      ]
     },
     "metadata": {},
     "output_type": "display_data"
    }
   ],
   "source": [
    "sns.distplot(df['Inches'])"
   ]
  },
  {
   "cell_type": "code",
   "execution_count": 268,
   "id": "96a53b51",
   "metadata": {},
   "outputs": [
    {
     "data": {
      "image/png": "[encoded data removed]",
      "text/plain": [
       "<Figure size 640x480 with 1 Axes>"
      ]
     },
     "metadata": {},
     "output_type": "display_data"
    }
   ],
   "source": [
    "sns.barplot(x=df['Inches'], y=df['Price'])\n",
    "plt.xticks(rotation=45)\n",
    "plt.show()"
   ]
  },
  {
   "cell_type": "code",
   "execution_count": 269,
   "id": "1ee2d4a2",
   "metadata": {},
   "outputs": [
    {
     "data": {
      "text/plain": [
       "<Axes: xlabel='Inches', ylabel='Price'>"
      ]
     },
     "execution_count": 269,
     "metadata": {},
     "output_type": "execute_result"
    },
    {
     "data": {
      "image/png": "[encoded data removed]",
      "text/plain": [
       "<Figure size 640x480 with 1 Axes>"
      ]
     },
     "metadata": {},
     "output_type": "display_data"
    }
   ],
   "source": [
    "sns.scatterplot(x=df['Inches'],y=df['Price'])\n",
    "#notso strong coorelation but there is a relationn as very scattered data"
   ]
  },
  {
   "cell_type": "code",
   "execution_count": 270,
   "id": "6f788d67",
   "metadata": {},
   "outputs": [
    {
     "data": {
      "image/png": "[encoded data removed]",
      "text/plain": [
       "<Figure size 640x480 with 1 Axes>"
      ]
     },
     "metadata": {},
     "output_type": "display_data"
    }
   ],
   "source": [
    "sns.barplot(x=df['ScreenResolution'], y=df['Price'])\n",
    "plt.xticks(rotation=90)\n",
    "plt.show()\n",
    "#difficult to sortt and get the ans"
   ]
  },
  {
   "cell_type": "code",
   "execution_count": 271,
   "id": "11980925",
   "metadata": {},
   "outputs": [
    {
     "data": {
      "text/plain": [
       "ScreenResolution\n",
       "Full HD 1920x1080                                507\n",
       "1366x768                                         281\n",
       "IPS Panel Full HD 1920x1080                      230\n",
       "IPS Panel Full HD / Touchscreen 1920x1080         53\n",
       "Full HD / Touchscreen 1920x1080                   47\n",
       "1600x900                                          23\n",
       "Touchscreen 1366x768                              16\n",
       "Quad HD+ / Touchscreen 3200x1800                  15\n",
       "IPS Panel 4K Ultra HD 3840x2160                   12\n",
       "IPS Panel 4K Ultra HD / Touchscreen 3840x2160     11\n",
       "4K Ultra HD / Touchscreen 3840x2160               10\n",
       "4K Ultra HD 3840x2160                              7\n",
       "Touchscreen 2560x1440                              7\n",
       "IPS Panel 1366x768                                 7\n",
       "IPS Panel Quad HD+ / Touchscreen 3200x1800         6\n",
       "IPS Panel Retina Display 2560x1600                 6\n",
       "IPS Panel Retina Display 2304x1440                 6\n",
       "Touchscreen 2256x1504                              6\n",
       "IPS Panel Touchscreen 2560x1440                    5\n",
       "IPS Panel Retina Display 2880x1800                 4\n",
       "IPS Panel Touchscreen 1920x1200                    4\n",
       "1440x900                                           4\n",
       "IPS Panel 2560x1440                                4\n",
       "IPS Panel Quad HD+ 2560x1440                       3\n",
       "Quad HD+ 3200x1800                                 3\n",
       "1920x1080                                          3\n",
       "Touchscreen 2400x1600                              3\n",
       "2560x1440                                          3\n",
       "IPS Panel Touchscreen 1366x768                     3\n",
       "IPS Panel Touchscreen / 4K Ultra HD 3840x2160      2\n",
       "IPS Panel Full HD 2160x1440                        2\n",
       "IPS Panel Quad HD+ 3200x1800                       2\n",
       "IPS Panel Retina Display 2736x1824                 1\n",
       "IPS Panel Full HD 1920x1200                        1\n",
       "IPS Panel Full HD 2560x1440                        1\n",
       "IPS Panel Full HD 1366x768                         1\n",
       "Touchscreen / Full HD 1920x1080                    1\n",
       "Touchscreen / Quad HD+ 3200x1800                   1\n",
       "Touchscreen / 4K Ultra HD 3840x2160                1\n",
       "IPS Panel Touchscreen 2400x1600                    1\n",
       "Name: count, dtype: int64"
      ]
     },
     "execution_count": 271,
     "metadata": {},
     "output_type": "execute_result"
    }
   ],
   "source": [
    "df['ScreenResolution'].value_counts()#differnce is resolution and touchscreen ,non touch screen,"
   ]
  },
  {
   "cell_type": "code",
   "execution_count": 272,
   "id": "f8ef2465",
   "metadata": {},
   "outputs": [],
   "source": [
    "df['Touchscreen']= df['ScreenResolution'].apply(lambda x:1 if'Touchscreen' in x else 0)"
   ]
  },
  {
   "cell_type": "code",
   "execution_count": 273,
   "id": "9d2c5244",
   "metadata": {},
   "outputs": [
    {
     "data": {
      "text/html": [
       "<div>\n",
       "<style scoped>\n",
       "    .dataframe tbody tr th:only-of-type {\n",
       "        vertical-align: middle;\n",
       "    }\n",
       "\n",
       "    .dataframe tbody tr th {\n",
       "        vertical-align: top;\n",
       "    }\n",
       "\n",
       "    .dataframe thead th {\n",
       "        text-align: right;\n",
       "    }\n",
       "</style>\n",
       "<table border=\"1\" class=\"dataframe\">\n",
       "  <thead>\n",
       "    <tr style=\"text-align: right;\">\n",
       "      <th></th>\n",
       "      <th>Company</th>\n",
       "      <th>TypeName</th>\n",
       "      <th>Inches</th>\n",
       "      <th>ScreenResolution</th>\n",
       "      <th>Cpu</th>\n",
       "      <th>Ram</th>\n",
       "      <th>Memory</th>\n",
       "      <th>Gpu</th>\n",
       "      <th>OpSys</th>\n",
       "      <th>Weight</th>\n",
       "      <th>Price</th>\n",
       "      <th>Touchscreen</th>\n",
       "    </tr>\n",
       "  </thead>\n",
       "  <tbody>\n",
       "    <tr>\n",
       "      <th>552</th>\n",
       "      <td>Dell</td>\n",
       "      <td>Gaming</td>\n",
       "      <td>17.3</td>\n",
       "      <td>IPS Panel Full HD 1920x1080</td>\n",
       "      <td>Intel Core i7 7700HQ 2.8GHz</td>\n",
       "      <td>16</td>\n",
       "      <td>256GB SSD +  1TB HDD</td>\n",
       "      <td>Nvidia GeForce GTX 1070</td>\n",
       "      <td>Windows 10</td>\n",
       "      <td>4.42</td>\n",
       "      <td>143802.7200</td>\n",
       "      <td>0</td>\n",
       "    </tr>\n",
       "    <tr>\n",
       "      <th>794</th>\n",
       "      <td>Apple</td>\n",
       "      <td>Ultrabook</td>\n",
       "      <td>12.0</td>\n",
       "      <td>IPS Panel Retina Display 2304x1440</td>\n",
       "      <td>Intel Core M 1.2GHz</td>\n",
       "      <td>8</td>\n",
       "      <td>512GB Flash Storage</td>\n",
       "      <td>Intel HD Graphics 5300</td>\n",
       "      <td>Mac OS X</td>\n",
       "      <td>0.92</td>\n",
       "      <td>62071.2000</td>\n",
       "      <td>0</td>\n",
       "    </tr>\n",
       "    <tr>\n",
       "      <th>374</th>\n",
       "      <td>Dell</td>\n",
       "      <td>2 in 1 Convertible</td>\n",
       "      <td>13.3</td>\n",
       "      <td>Full HD / Touchscreen 1920x1080</td>\n",
       "      <td>Intel Core i7 8550U 1.8GHz</td>\n",
       "      <td>8</td>\n",
       "      <td>256GB SSD</td>\n",
       "      <td>Intel UHD Graphics 620</td>\n",
       "      <td>Windows 10</td>\n",
       "      <td>1.62</td>\n",
       "      <td>46300.8528</td>\n",
       "      <td>1</td>\n",
       "    </tr>\n",
       "    <tr>\n",
       "      <th>1147</th>\n",
       "      <td>Dell</td>\n",
       "      <td>Notebook</td>\n",
       "      <td>15.6</td>\n",
       "      <td>Full HD 1920x1080</td>\n",
       "      <td>Intel Core i7 7500U 2.7GHz</td>\n",
       "      <td>8</td>\n",
       "      <td>256GB SSD</td>\n",
       "      <td>Nvidia GeForce 940MX</td>\n",
       "      <td>Windows 10</td>\n",
       "      <td>2.18</td>\n",
       "      <td>53807.4720</td>\n",
       "      <td>0</td>\n",
       "    </tr>\n",
       "    <tr>\n",
       "      <th>380</th>\n",
       "      <td>HP</td>\n",
       "      <td>Gaming</td>\n",
       "      <td>17.3</td>\n",
       "      <td>IPS Panel Full HD 1920x1080</td>\n",
       "      <td>Intel Core i7 7700HQ 2.8GHz</td>\n",
       "      <td>8</td>\n",
       "      <td>128GB SSD +  1TB HDD</td>\n",
       "      <td>Nvidia GeForce GTX 1050</td>\n",
       "      <td>Windows 10</td>\n",
       "      <td>3.35</td>\n",
       "      <td>63456.4800</td>\n",
       "      <td>0</td>\n",
       "    </tr>\n",
       "  </tbody>\n",
       "</table>\n",
       "</div>"
      ],
      "text/plain": [
       "     Company            TypeName  Inches                    ScreenResolution  \\\n",
       "552     Dell              Gaming    17.3         IPS Panel Full HD 1920x1080   \n",
       "794    Apple           Ultrabook    12.0  IPS Panel Retina Display 2304x1440   \n",
       "374     Dell  2 in 1 Convertible    13.3     Full HD / Touchscreen 1920x1080   \n",
       "1147    Dell            Notebook    15.6                   Full HD 1920x1080   \n",
       "380       HP              Gaming    17.3         IPS Panel Full HD 1920x1080   \n",
       "\n",
       "                              Cpu  Ram                Memory  \\\n",
       "552   Intel Core i7 7700HQ 2.8GHz   16  256GB SSD +  1TB HDD   \n",
       "794           Intel Core M 1.2GHz    8   512GB Flash Storage   \n",
       "374    Intel Core i7 8550U 1.8GHz    8             256GB SSD   \n",
       "1147   Intel Core i7 7500U 2.7GHz    8             256GB SSD   \n",
       "380   Intel Core i7 7700HQ 2.8GHz    8  128GB SSD +  1TB HDD   \n",
       "\n",
       "                          Gpu       OpSys  Weight        Price  Touchscreen  \n",
       "552   Nvidia GeForce GTX 1070  Windows 10    4.42  143802.7200            0  \n",
       "794    Intel HD Graphics 5300    Mac OS X    0.92   62071.2000            0  \n",
       "374    Intel UHD Graphics 620  Windows 10    1.62   46300.8528            1  \n",
       "1147     Nvidia GeForce 940MX  Windows 10    2.18   53807.4720            0  \n",
       "380   Nvidia GeForce GTX 1050  Windows 10    3.35   63456.4800            0  "
      ]
     },
     "execution_count": 273,
     "metadata": {},
     "output_type": "execute_result"
    }
   ],
   "source": [
    "df.sample(5)"
   ]
  },
  {
   "cell_type": "code",
   "execution_count": 274,
   "id": "a21d8c39",
   "metadata": {},
   "outputs": [
    {
     "data": {
      "text/plain": [
       "<Axes: xlabel='Touchscreen'>"
      ]
     },
     "execution_count": 274,
     "metadata": {},
     "output_type": "execute_result"
    },
    {
     "data": {
      "image/png": "[encoded data removed]",
      "text/plain": [
       "<Figure size 640x480 with 1 Axes>"
      ]
     },
     "metadata": {},
     "output_type": "display_data"
    }
   ],
   "source": [
    "df['Touchscreen'].value_counts().plot(kind='bar')#count of touch and non touch"
   ]
  },
  {
   "cell_type": "code",
   "execution_count": 275,
   "id": "27c8f607",
   "metadata": {},
   "outputs": [
    {
     "name": "stderr",
     "output_type": "stream",
     "text": [
      "\n",
      "KeyboardInterrupt\n",
      "\n"
     ]
    },
    {
     "data": {
      "text/plain": [
       "<Figure size 640x480 with 0 Axes>"
      ]
     },
     "metadata": {},
     "output_type": "display_data"
    }
   ],
   "source": [
    "#price and touchscreen if there any difference\n",
    "sns.barplot(x=df['Touchscreen'],y=df['Price'])\n",
    "#conclusion effects the Price"
   ]
  },
  {
   "cell_type": "code",
   "execution_count": null,
   "id": "15a22ffe",
   "metadata": {},
   "outputs": [],
   "source": [
    "#now same for ipl\n",
    "df['IPS']=df['ScreenResolution'].apply(lambda x:1 if 'IPS'in x else 0)"
   ]
  },
  {
   "cell_type": "code",
   "execution_count": null,
   "id": "c4f88670",
   "metadata": {},
   "outputs": [],
   "source": [
    "df.head()"
   ]
  },
  {
   "cell_type": "code",
   "execution_count": null,
   "id": "69ba003d",
   "metadata": {},
   "outputs": [],
   "source": [
    "df['IPS'].value_counts().plot(kind='bar')"
   ]
  },
  {
   "cell_type": "code",
   "execution_count": null,
   "id": "649d0b38",
   "metadata": {},
   "outputs": [],
   "source": [
    "sns.barplot(x=df['IPS'],y=df['Price'])"
   ]
  },
  {
   "cell_type": "code",
   "execution_count": null,
   "id": "ec778a8b",
   "metadata": {},
   "outputs": [],
   "source": [
    "#resolution expand\n",
    "new=df['ScreenResolution'].str.split('x',n=1,expand=True)\n",
    "new"
   ]
  },
  {
   "cell_type": "code",
   "execution_count": null,
   "id": "45e72f3d",
   "metadata": {},
   "outputs": [],
   "source": [
    "df.head()"
   ]
  },
  {
   "cell_type": "code",
   "execution_count": null,
   "id": "52180675",
   "metadata": {},
   "outputs": [],
   "source": [
    "df['X_res']=new[0]\n",
    "df['Y_res']=new[1]"
   ]
  },
  {
   "cell_type": "code",
   "execution_count": null,
   "id": "471bab8d",
   "metadata": {},
   "outputs": [],
   "source": [
    "#alternative of df.corr()['Price as it was not working']\n",
    "# Step 1: Select numeric columns (excluding non-numeric columns)\n",
    "numeric_columns = df.select_dtypes(include=['number'])\n",
    "\n",
    "# Step 2: Compute the correlation matrix for the numeric columns\n",
    "correlation_matrix = numeric_columns.corr()\n",
    "price_correlations = correlation_matrix['Price']\n",
    "price_correlations"
   ]
  },
  {
   "cell_type": "code",
   "execution_count": null,
   "id": "d1035c5a",
   "metadata": {},
   "outputs": [],
   "source": [
    "df['X_res'] = df['X_res'].str.replace(',','').str.findall(r'(\\d+\\.?\\d+)').apply(lambda x:x[0])\n",
    "df.head()"
   ]
  },
  {
   "cell_type": "code",
   "execution_count": null,
   "id": "df8d19fa",
   "metadata": {},
   "outputs": [],
   "source": [
    "df.info()"
   ]
  },
  {
   "cell_type": "code",
   "execution_count": null,
   "id": "a832e39b",
   "metadata": {},
   "outputs": [],
   "source": [
    "df['X_res']=df['X_res'].astype('int')"
   ]
  },
  {
   "cell_type": "code",
   "execution_count": null,
   "id": "c2920202",
   "metadata": {},
   "outputs": [],
   "source": [
    "df['Y_res']=df['Y_res'].astype('int')"
   ]
  },
  {
   "cell_type": "code",
   "execution_count": null,
   "id": "fda9faf0",
   "metadata": {},
   "outputs": [],
   "source": [
    "df.info()"
   ]
  },
  {
   "cell_type": "code",
   "execution_count": null,
   "id": "546fe8f8",
   "metadata": {},
   "outputs": [],
   "source": [
    "#see if any thing cn be merged,,,,here ppi\n",
    "df['ppi']=(((df['X_res']**2)+df['Y_res']**2)**0.5/df['Inches']).astype('float')"
   ]
  },
  {
   "cell_type": "code",
   "execution_count": null,
   "id": "f3b3f3e6",
   "metadata": {},
   "outputs": [],
   "source": [
    "#alternative of df.corr()['Price as it was not working']\n",
    "# Step 1: Select numeric columns (excluding non-numeric columns)\n",
    "numeric_columns = df.select_dtypes(include=['number'])\n",
    "\n",
    "# Step 2: Compute the correlation matrix for the numeric columns\n",
    "correlation_matrix = numeric_columns.corr()\n",
    "price_correlations = correlation_matrix['Price']\n",
    "price_correlations"
   ]
  },
  {
   "cell_type": "code",
   "execution_count": null,
   "id": "967c2884",
   "metadata": {},
   "outputs": [],
   "source": [
    "df.drop(columns=['Inches','X_res','Y_res','ScreenResolution'],inplace=True)"
   ]
  },
  {
   "cell_type": "code",
   "execution_count": null,
   "id": "428e87cd",
   "metadata": {},
   "outputs": [],
   "source": [
    "df.head()"
   ]
  },
  {
   "cell_type": "code",
   "execution_count": null,
   "id": "8f1c27e4",
   "metadata": {},
   "outputs": [],
   "source": [
    "df.sample(10)"
   ]
  },
  {
   "cell_type": "code",
   "execution_count": null,
   "id": "50a9583a",
   "metadata": {},
   "outputs": [],
   "source": [
    "#cpu\n",
    "df['Cpu'].value_counts()"
   ]
  },
  {
   "cell_type": "code",
   "execution_count": null,
   "id": "0fb0442e",
   "metadata": {},
   "outputs": [],
   "source": [
    "sns.barplot(x=df['Cpu'],y=df['Price'])"
   ]
  },
  {
   "cell_type": "code",
   "execution_count": null,
   "id": "bc9cfa07",
   "metadata": {},
   "outputs": [],
   "source": [
    "df['cpu name']=df['Cpu'].apply(lambda x: \" \".join(x.split()[0:3]))\n",
    "df.head()"
   ]
  },
  {
   "cell_type": "code",
   "execution_count": null,
   "id": "a4de5de2",
   "metadata": {},
   "outputs": [],
   "source": [
    "def processor(text):\n",
    "    if text == 'Intel Core i7' or text == 'Intel Core i5' or text == 'Intel Core i3':\n",
    "        return text\n",
    "    else:\n",
    "        if text.split()[0] == 'Intel':\n",
    "            return 'Other Intel Processor'\n",
    "        else:\n",
    "            return 'AMD Processor'\n"
   ]
  },
  {
   "cell_type": "code",
   "execution_count": null,
   "id": "fbf0b2fc",
   "metadata": {},
   "outputs": [],
   "source": [
    "df['cpu brand']=df['cpu name'].apply(processor)"
   ]
  },
  {
   "cell_type": "code",
   "execution_count": null,
   "id": "0e81f35e",
   "metadata": {},
   "outputs": [],
   "source": [
    "df.head()"
   ]
  },
  {
   "cell_type": "code",
   "execution_count": null,
   "id": "b240468e",
   "metadata": {},
   "outputs": [],
   "source": [
    "df['cpu brand'].value_counts().plot(kind='bar')"
   ]
  },
  {
   "cell_type": "code",
   "execution_count": null,
   "id": "9a627d98",
   "metadata": {},
   "outputs": [],
   "source": [
    "sns.barplot(x=df['cpu brand'],y=df['Price'])\n",
    "plt.xticks(rotation='vertical')\n",
    "plt.show()\n"
   ]
  },
  {
   "cell_type": "code",
   "execution_count": null,
   "id": "cb17b349",
   "metadata": {},
   "outputs": [],
   "source": [
    "df.drop(columns=['Cpu','cpu name'],inplace=True)"
   ]
  },
  {
   "cell_type": "code",
   "execution_count": null,
   "id": "4de589a5",
   "metadata": {},
   "outputs": [],
   "source": [
    "df.head()"
   ]
  },
  {
   "cell_type": "code",
   "execution_count": null,
   "id": "ee052d06",
   "metadata": {},
   "outputs": [],
   "source": [
    "df['Ram'].value_counts().plot(kind='bar')"
   ]
  },
  {
   "cell_type": "code",
   "execution_count": null,
   "id": "e97f2af1",
   "metadata": {},
   "outputs": [],
   "source": [
    "sns.barplot(x=df['Ram'],y=df['Price'])\n",
    "#effects the memoryy"
   ]
  },
  {
   "cell_type": "code",
   "execution_count": null,
   "id": "61722ad8",
   "metadata": {},
   "outputs": [],
   "source": [
    "df.sample(9)"
   ]
  },
  {
   "cell_type": "code",
   "execution_count": null,
   "id": "77e8e910",
   "metadata": {},
   "outputs": [],
   "source": [
    "df['Memory'].value_counts()"
   ]
  },
  {
   "cell_type": "code",
   "execution_count": null,
   "id": "11e30251",
   "metadata": {},
   "outputs": [],
   "source": [
    "df['Memory'] = df['Memory'].astype(str).replace('\\.0', '', regex=True)\n",
    "df[\"Memory\"] = df[\"Memory\"].str.replace('GB', '')\n",
    "df[\"Memory\"] = df[\"Memory\"].str.replace('TB', '000')\n",
    "new = df[\"Memory\"].str.split(\"+\", n = 1, expand = True)\n",
    "\n",
    "df[\"first\"]= new[0]\n",
    "df[\"first\"]=df[\"first\"].str.strip()\n",
    "\n",
    "df[\"second\"]= new[1]\n",
    "\n",
    "df[\"Layer1HDD\"] = df[\"first\"].apply(lambda x: 1 if \"HDD\" in x else 0)\n",
    "df[\"Layer1SSD\"] = df[\"first\"].apply(lambda x: 1 if \"SSD\" in x else 0)\n",
    "df[\"Layer1Hybrid\"] = df[\"first\"].apply(lambda x: 1 if \"Hybrid\" in x else 0)\n",
    "df[\"Layer1Flash_Storage\"] = df[\"first\"].apply(lambda x: 1 if \"Flash Storage\" in x else 0)\n",
    "\n",
    "df['first'] = df['first'].str.replace(r'\\D', '')\n",
    "\n",
    "df[\"second\"].fillna(\"0\", inplace = True)\n",
    "\n",
    "df[\"Layer2HDD\"] = df[\"second\"].apply(lambda x: 1 if \"HDD\" in x else 0)\n",
    "df[\"Layer2SSD\"] = df[\"second\"].apply(lambda x: 1 if \"SSD\" in x else 0)\n",
    "df[\"Layer2Hybrid\"] = df[\"second\"].apply(lambda x: 1 if \"Hybrid\" in x else 0)\n",
    "df[\"Layer2Flash_Storage\"] = df[\"second\"].apply(lambda x: 1 if \"Flash Storage\" in x else 0)\n",
    "\n",
    "df['second'] = df['second'].str.replace(r'\\D', '')\n",
    "\n",
    "#df[\"first\"] = df[\"first\"].astype(int)\n",
    "# ... (previous code)\n",
    "\n",
    "# Remove non-digit characters from the 'first' column\n",
    "df[\"first\"] = df[\"first\"].str.extract('(\\d+)').astype(int)\n",
    "\n",
    "# ... (continue with your calculations)\n",
    "df[\"second\"] = df[\"second\"].str.extract('(\\d+)').astype(int)\n",
    "#df[\"second\"] = df[\"second\"].astype(int)\n",
    "\n",
    "df[\"HDD\"]=(df[\"first\"]*df[\"Layer1HDD\"]+df[\"second\"]*df[\"Layer2HDD\"])\n",
    "df[\"SSD\"]=(df[\"first\"]*df[\"Layer1SSD\"]+df[\"second\"]*df[\"Layer2SSD\"])\n",
    "df[\"Hybrid\"]=(df[\"first\"]*df[\"Layer1Hybrid\"]+df[\"second\"]*df[\"Layer2Hybrid\"])\n",
    "df[\"Flash_Storage\"]=(df[\"first\"]*df[\"Layer1Flash_Storage\"]+df[\"second\"]*df[\"Layer2Flash_Storage\"])\n",
    "\n",
    "df.drop(columns=['first', 'second', 'Layer1HDD', 'Layer1SSD', 'Layer1Hybrid',\n",
    "       'Layer1Flash_Storage', 'Layer2HDD', 'Layer2SSD', 'Layer2Hybrid',\n",
    "       'Layer2Flash_Storage'],inplace=True)"
   ]
  },
  {
   "cell_type": "code",
   "execution_count": null,
   "id": "4bffd392",
   "metadata": {},
   "outputs": [],
   "source": [
    "df.sample(9)"
   ]
  },
  {
   "cell_type": "code",
   "execution_count": null,
   "id": "6bca1b13",
   "metadata": {},
   "outputs": [],
   "source": [
    "df.drop(columns=['Memory'],inplace=True)"
   ]
  },
  {
   "cell_type": "code",
   "execution_count": null,
   "id": "6f4b8e4d",
   "metadata": {},
   "outputs": [],
   "source": [
    "df.head()"
   ]
  },
  {
   "cell_type": "code",
   "execution_count": null,
   "id": "ebe6b2e6",
   "metadata": {},
   "outputs": [],
   "source": [
    "#alternative of df.corr()['Price as it was not working']\n",
    "# Step 1: Select numeric columns (excluding non-numeric columns)\n",
    "numeric_columns = df.select_dtypes(include=['number'])\n",
    "\n",
    "# Step 2: Compute the correlation matrix for the numeric columns\n",
    "correlation_matrix = numeric_columns.corr()\n",
    "price_correlations = correlation_matrix['Price']\n",
    "price_correlations"
   ]
  },
  {
   "cell_type": "code",
   "execution_count": null,
   "id": "22dc68f4",
   "metadata": {},
   "outputs": [],
   "source": [
    "df.drop(columns=['Hybrid','Flash_Storage'],inplace=True)"
   ]
  },
  {
   "cell_type": "code",
   "execution_count": null,
   "id": "8a4a66ac",
   "metadata": {},
   "outputs": [],
   "source": [
    "df['Gpu'].value_counts()"
   ]
  },
  {
   "cell_type": "code",
   "execution_count": null,
   "id": "21d98a5a",
   "metadata": {},
   "outputs": [],
   "source": [
    "df['Gpu brand'] = df['Gpu'].apply(lambda x:x.split()[0])"
   ]
  },
  {
   "cell_type": "code",
   "execution_count": null,
   "id": "f08053f5",
   "metadata": {},
   "outputs": [],
   "source": [
    "df.head()"
   ]
  },
  {
   "cell_type": "code",
   "execution_count": null,
   "id": "13d2f17c",
   "metadata": {},
   "outputs": [],
   "source": [
    "df['Gpu brand'].value_counts()"
   ]
  },
  {
   "cell_type": "code",
   "execution_count": null,
   "id": "911ae575",
   "metadata": {},
   "outputs": [],
   "source": [
    "df = df[df['Gpu brand'] != 'ARM']"
   ]
  },
  {
   "cell_type": "code",
   "execution_count": null,
   "id": "fb41a82d",
   "metadata": {},
   "outputs": [],
   "source": [
    "df['Gpu brand'].value_counts()"
   ]
  },
  {
   "cell_type": "code",
   "execution_count": null,
   "id": "0609bdb6",
   "metadata": {},
   "outputs": [],
   "source": [
    "sns.barplot(x=df['Gpu brand'],y=df['Price'])\n",
    "plt.xticks(rotation=45)\n",
    "plt.show()\n"
   ]
  },
  {
   "cell_type": "code",
   "execution_count": null,
   "id": "6fba32fe",
   "metadata": {},
   "outputs": [],
   "source": [
    "df['OpSys'].value_counts()"
   ]
  },
  {
   "cell_type": "code",
   "execution_count": null,
   "id": "c2ac9484",
   "metadata": {},
   "outputs": [],
   "source": [
    "sns.barplot(x=df['OpSys'],y=df['Price'])\n",
    "plt.xticks(rotation=45)\n",
    "plt.show()"
   ]
  },
  {
   "cell_type": "code",
   "execution_count": null,
   "id": "ea7af912",
   "metadata": {},
   "outputs": [],
   "source": [
    "def fxn(inp):\n",
    "    if inp=='Windows 10'or inp=='Windows 7' or inp=='Windows 10 S':\n",
    "        return'Windows'\n",
    "    elif inp == 'macOS' or inp == 'Mac OS X':\n",
    "        return 'Mac'\n",
    "    else:\n",
    "        return 'Others/No OS/Linux'"
   ]
  },
  {
   "cell_type": "code",
   "execution_count": null,
   "id": "1bd553ac",
   "metadata": {},
   "outputs": [],
   "source": [
    "df['os']=df['OpSys'].apply(fxn)"
   ]
  },
  {
   "cell_type": "code",
   "execution_count": null,
   "id": "a81a1e5d",
   "metadata": {},
   "outputs": [],
   "source": [
    "df.drop(columns=['OpSys'],inplace=True)"
   ]
  },
  {
   "cell_type": "code",
   "execution_count": null,
   "id": "3df67b86",
   "metadata": {},
   "outputs": [],
   "source": [
    "df.head()"
   ]
  },
  {
   "cell_type": "code",
   "execution_count": null,
   "id": "28576afc",
   "metadata": {},
   "outputs": [],
   "source": [
    "df.info()"
   ]
  },
  {
   "cell_type": "code",
   "execution_count": null,
   "id": "dce799d3",
   "metadata": {},
   "outputs": [],
   "source": [
    "#alternative of df.corr()['Price as it was not working']\n",
    "# Step 1: Select numeric columns (excluding non-numeric columns)\n",
    "numeric_columns = df.select_dtypes(include=['number'])\n",
    "\n",
    "# Step 2: Compute the correlation matrix for the numeric columns\n",
    "correlation_matrix = numeric_columns.corr()\n",
    "price_correlations = correlation_matrix['Price']\n",
    "price_correlations\n"
   ]
  },
  {
   "cell_type": "code",
   "execution_count": null,
   "id": "ead5e19a",
   "metadata": {},
   "outputs": [],
   "source": [
    "sns.barplot(x=df['os'],y=df['Price'])\n",
    "plt.xticks(rotation='vertical')\n",
    "plt.show()"
   ]
  },
  {
   "cell_type": "code",
   "execution_count": null,
   "id": "d8b3331a",
   "metadata": {},
   "outputs": [],
   "source": [
    "sns.distplot(df['Weight'])\n"
   ]
  },
  {
   "cell_type": "code",
   "execution_count": null,
   "id": "eef4adc7",
   "metadata": {},
   "outputs": [],
   "source": [
    "sns.scatterplot(x=df['Weight'],y=df['Price'])\n"
   ]
  },
  {
   "cell_type": "code",
   "execution_count": null,
   "id": "eb9b8753",
   "metadata": {},
   "outputs": [],
   "source": [
    "#sns.heatmap(df.corr())#more darker means strong relation cn take one as not working\n",
    "\n",
    "# Select only numeric columns for correlation calculation\n",
    "numeric_columns = df.select_dtypes(include=[np.number])\n",
    "\n",
    "# Calculate the correlation matrix for numeric columns\n",
    "correlation_matrix = numeric_columns.corr()\n",
    "\n",
    "# Create a heatmap\n",
    "plt.figure(figsize=(10, 8))  # Set the size of the heatmap\n",
    "sns.heatmap(correlation_matrix, annot=True, cmap='coolwarm', fmt=\".2f\")\n",
    "plt.title('Correlation Heatmap')\n",
    "plt.show()\n"
   ]
  },
  {
   "cell_type": "code",
   "execution_count": null,
   "id": "2d248fa6",
   "metadata": {},
   "outputs": [],
   "source": [
    "sns.distplot(df['Price'])#skewed data"
   ]
  },
  {
   "cell_type": "code",
   "execution_count": null,
   "id": "3151e9ae",
   "metadata": {},
   "outputs": [],
   "source": [
    "sns.distplot(np.log(df['Price']))#normalize the data"
   ]
  },
  {
   "cell_type": "code",
   "execution_count": null,
   "id": "594b2290",
   "metadata": {},
   "outputs": [],
   "source": [
    "df.drop(columns=['Gpu'],inplace=True)\n",
    "df.head()"
   ]
  },
  {
   "cell_type": "code",
   "execution_count": null,
   "id": "f3090b25",
   "metadata": {},
   "outputs": [],
   "source": [
    "#test  and train the data\n",
    "X=df.drop(columns=['Price'])\n",
    "y=np.log(df['Price'])"
   ]
  },
  {
   "cell_type": "code",
   "execution_count": null,
   "id": "d13aba9e",
   "metadata": {},
   "outputs": [],
   "source": [
    "y#norml\\alize form"
   ]
  },
  {
   "cell_type": "code",
   "execution_count": null,
   "id": "99ccf83a",
   "metadata": {},
   "outputs": [],
   "source": [
    "X\n"
   ]
  },
  {
   "cell_type": "code",
   "execution_count": null,
   "id": "ca0ea804",
   "metadata": {},
   "outputs": [],
   "source": [
    "from sklearn.model_selection import train_test_split\n",
    "X_train,X_test,y_train,y_test = train_test_split(X,y,test_size=0.15,random_state=2)"
   ]
  },
  {
   "cell_type": "code",
   "execution_count": null,
   "id": "dce7152f",
   "metadata": {},
   "outputs": [],
   "source": [
    "X_train"
   ]
  },
  {
   "cell_type": "code",
   "execution_count": null,
   "id": "04c23404",
   "metadata": {},
   "outputs": [],
   "source": [
    "from sklearn.compose import ColumnTransformer\n",
    "from sklearn.pipeline import Pipeline\n",
    "from sklearn.preprocessing import OneHotEncoder\n",
    "from sklearn.metrics import r2_score,mean_absolute_error"
   ]
  },
  {
   "cell_type": "code",
   "execution_count": null,
   "id": "f0cb0ffc",
   "metadata": {},
   "outputs": [],
   "source": [
    "from sklearn.linear_model import LinearRegression,Ridge,Lasso\n",
    "from sklearn.tree import DecisionTreeRegressor\n",
    "from sklearn.neighbors import KNeighborsRegressor\n",
    "from sklearn.ensemble import RandomForestRegressor\n",
    "from sklearn.svm import SVR\n"
   ]
  },
  {
   "cell_type": "markdown",
   "id": "9cbf95fe",
   "metadata": {},
   "source": [
    "# Linear Regression"
   ]
  },
  {
   "cell_type": "code",
   "execution_count": null,
   "id": "fc990081",
   "metadata": {},
   "outputs": [],
   "source": [
    "step1 = ColumnTransformer(transformers=[\n",
    "    ('col_tnf',OneHotEncoder(sparse=False,drop='first'),[0,1,7,10,11])\n",
    "],remainder='passthrough')\n",
    "\n",
    "step2=LinearRegression()\n",
    "\n",
    "pipe=Pipeline([\n",
    "    ('step1',step1),\n",
    "    ('step2',step2)\n",
    "])\n",
    "pipe.fit(X_train,y_train)\n",
    "y_pred=pipe.predict(X_test)\n",
    "\n",
    "print('R2 score',r2_score(y_test,y_pred))\n",
    "print('MAE',mean_absolute_error(y_test,y_pred))"
   ]
  },
  {
   "cell_type": "code",
   "execution_count": null,
   "id": "a0719599",
   "metadata": {},
   "outputs": [],
   "source": [
    "np.exp(0.21)# putting value of mea we cn see the differnce as per theshown here"
   ]
  },
  {
   "cell_type": "markdown",
   "id": "5bb7e804",
   "metadata": {},
   "source": [
    "# Ridge Regression"
   ]
  },
  {
   "cell_type": "code",
   "execution_count": null,
   "id": "c290979b",
   "metadata": {},
   "outputs": [],
   "source": [
    "step1 = ColumnTransformer(transformers=[\n",
    "    ('col_tnf',OneHotEncoder(sparse=False,drop='first'),[0,1,7,10,11])\n",
    "    \n",
    "],remainder='passthrough')\n",
    "\n",
    "step2 = Ridge(alpha=10)\n",
    "\n",
    "pipe = Pipeline([\n",
    "    ('step1',step1),\n",
    "    ('step2',step2)\n",
    "])\n",
    "\n",
    "pipe.fit(X_train,y_train)\n",
    "\n",
    "y_pred = pipe.predict(X_test)\n",
    "\n",
    "print('R2 score',r2_score(y_test,y_pred))\n",
    "print('MAE',mean_absolute_error(y_test,y_pred))"
   ]
  },
  {
   "cell_type": "code",
   "execution_count": null,
   "id": "c3e14b4f",
   "metadata": {},
   "outputs": [],
   "source": [
    "np.exp(0.19)"
   ]
  },
  {
   "cell_type": "markdown",
   "id": "ed0ded34",
   "metadata": {},
   "source": [
    "# lasso regression"
   ]
  },
  {
   "cell_type": "code",
   "execution_count": null,
   "id": "bed3ae43",
   "metadata": {},
   "outputs": [],
   "source": [
    "step1 = ColumnTransformer(transformers=[\n",
    "    ('col_tnf',OneHotEncoder(sparse=False,drop='first'),[0,1,7,10,11])\n",
    "],remainder='passthrough')\n",
    "\n",
    "step2 = Lasso(alpha=0.001)\n",
    "\n",
    "pipe = Pipeline([\n",
    "    ('step1',step1),\n",
    "    ('step2',step2)\n",
    "])\n",
    "\n",
    "pipe.fit(X_train,y_train)\n",
    "\n",
    "y_pred = pipe.predict(X_test)\n",
    "\n",
    "print('R2 score',r2_score(y_test,y_pred))\n",
    "print('MAE',mean_absolute_error(y_test,y_pred))"
   ]
  },
  {
   "cell_type": "markdown",
   "id": "ce695d97",
   "metadata": {},
   "source": [
    "# KNN"
   ]
  },
  {
   "cell_type": "code",
   "execution_count": null,
   "id": "78f53e53",
   "metadata": {},
   "outputs": [],
   "source": [
    "step1 = ColumnTransformer(transformers=[\n",
    "    ('col_tnf',OneHotEncoder(sparse=False,drop='first'),[0,1,7,10,11])\n",
    "],remainder='passthrough')\n",
    "\n",
    "step2 = KNeighborsRegressor(n_neighbors=3)\n",
    "\n",
    "pipe = Pipeline([\n",
    "    ('step1',step1),\n",
    "    ('step2',step2)\n",
    "])\n",
    "\n",
    "pipe.fit(X_train,y_train)\n",
    "\n",
    "y_pred = pipe.predict(X_test)\n",
    "\n",
    "print('R2 score',r2_score(y_test,y_pred))\n",
    "print('MAE',mean_absolute_error(y_test,y_pred))"
   ]
  },
  {
   "cell_type": "markdown",
   "id": "cdbd94a0",
   "metadata": {},
   "source": [
    "# DECISION TREE"
   ]
  },
  {
   "cell_type": "code",
   "execution_count": null,
   "id": "f6e73896",
   "metadata": {},
   "outputs": [],
   "source": [
    "step1 = ColumnTransformer(transformers=[\n",
    "    ('col_tnf',OneHotEncoder(sparse=False,drop='first'),[0,1,7,10,11])\n",
    "],remainder='passthrough')\n",
    "\n",
    "step2 = DecisionTreeRegressor(max_depth=8)\n",
    "\n",
    "pipe = Pipeline([\n",
    "    ('step1',step1),\n",
    "    ('step2',step2)\n",
    "])\n",
    "\n",
    "pipe.fit(X_train,y_train)\n",
    "\n",
    "y_pred = pipe.predict(X_test)\n",
    "\n",
    "print('R2 score',r2_score(y_test,y_pred))\n",
    "print('MAE',mean_absolute_error(y_test,y_pred))\n"
   ]
  },
  {
   "cell_type": "code",
   "execution_count": null,
   "id": "4d65d56a",
   "metadata": {},
   "outputs": [],
   "source": [
    "np.exp(0.18)"
   ]
  },
  {
   "cell_type": "markdown",
   "id": "2643c745",
   "metadata": {},
   "source": [
    "# SVM"
   ]
  },
  {
   "cell_type": "code",
   "execution_count": null,
   "id": "9e7031ab",
   "metadata": {},
   "outputs": [],
   "source": [
    "step1 = ColumnTransformer(transformers=[\n",
    "    ('col_tnf',OneHotEncoder(sparse=False,drop='first'),[0,1,7,10,11])\n",
    "],remainder='passthrough')\n",
    "\n",
    "step2 = SVR(kernel='rbf',C=10000,epsilon=0.1)\n",
    "\n",
    "pipe = Pipeline([\n",
    "    ('step1',step1),\n",
    "    ('step2',step2)\n",
    "])\n",
    "\n",
    "pipe.fit(X_train,y_train)\n",
    "\n",
    "y_pred = pipe.predict(X_test)\n",
    "\n",
    "print('R2 score',r2_score(y_test,y_pred))\n",
    "print('MAE',mean_absolute_error(y_test,y_pred))\n"
   ]
  },
  {
   "cell_type": "markdown",
   "id": "83e85a2e",
   "metadata": {},
   "source": [
    "# Random Forest\n"
   ]
  },
  {
   "cell_type": "code",
   "execution_count": null,
   "id": "6f72add4",
   "metadata": {},
   "outputs": [],
   "source": [
    "step1 = ColumnTransformer(transformers=[\n",
    "    ('col_tnf',OneHotEncoder(sparse=False,drop='first'),[0,1,7,10,11])\n",
    "],remainder='passthrough')\n",
    "\n",
    "step2 = RandomForestRegressor(n_estimators=200,# parameter specifies the number of decision trees \n",
    "                              random_state=3,# This parameter sets the random seed for reproducibility. By fixing the random state, you ensure that the random processes within the algorithm are consistent across runs.\n",
    "                              max_samples=0.7,#This parameter controls the proportion of samples used for training each individual decision tree\n",
    "                              max_features=0.75,#This parameter specifies the proportion of features considered for splitting a node in each individual decision tree. \n",
    "                              max_depth=15)#: This parameter limits the maximum depth of each decision tree in the forest. A tree's depth represents how many splits it has before reaching a leaf node.\n",
    "\n",
    "pipe = Pipeline([\n",
    "    ('step1',step1),\n",
    "    ('step2',step2)\n",
    "])\n",
    "\n",
    "pipe.fit(X_train,y_train)\n",
    "\n",
    "y_pred = pipe.predict(X_test)\n",
    "\n",
    "print('R2 score',r2_score(y_test,y_pred))\n",
    "print('MAE',mean_absolute_error(y_test,y_pred))"
   ]
  },
  {
   "cell_type": "code",
   "execution_count": null,
   "id": "c5c43f3c",
   "metadata": {},
   "outputs": [],
   "source": [
    "np.exp(0.157)"
   ]
  },
  {
   "cell_type": "markdown",
   "id": "946908c3",
   "metadata": {},
   "source": [
    "# AdaBoost\n"
   ]
  },
  {
   "cell_type": "code",
   "execution_count": 244,
   "id": "51ad95e6",
   "metadata": {},
   "outputs": [
    {
     "name": "stdout",
     "output_type": "stream",
     "text": [
      "R2 score 0.7937753516098806\n",
      "MAE 0.22954752244999668\n"
     ]
    },
    {
     "name": "stderr",
     "output_type": "stream",
     "text": [
      "C:\\Users\\HP PC\\anaconda3\\Lib\\site-packages\\sklearn\\preprocessing\\_encoders.py:972: FutureWarning: `sparse` was renamed to `sparse_output` in version 1.2 and will be removed in 1.4. `sparse_output` is ignored unless you leave `sparse` to its default value.\n",
      "  warnings.warn(\n"
     ]
    }
   ],
   "source": [
    "from sklearn.ensemble import AdaBoostRegressor\n",
    "step1 = ColumnTransformer(transformers=[\n",
    "    ('col_tnf',OneHotEncoder(sparse=False,drop='first'),[0,1,7,10,11])\n",
    "],remainder='passthrough')\n",
    "\n",
    "step2 = AdaBoostRegressor(n_estimators=15,learning_rate=1.0)\n",
    "\n",
    "pipe = Pipeline([\n",
    "    ('step1',step1),\n",
    "    ('step2',step2)\n",
    "])\n",
    "\n",
    "pipe.fit(X_train,y_train)\n",
    "\n",
    "y_pred = pipe.predict(X_test)\n",
    "\n",
    "print('R2 score',r2_score(y_test,y_pred))\n",
    "print('MAE',mean_absolute_error(y_test,y_pred))"
   ]
  },
  {
   "cell_type": "code",
   "execution_count": null,
   "id": "2aa4a07d",
   "metadata": {},
   "outputs": [],
   "source": [
    "step1 = ColumnTransformer(transformers=[\n",
    "    ('col_tnf',OneHotEncoder(sparse=False,drop='first'),[0,1,7,10,11])\n",
    "],remainder='passthrough')\n",
    "\n",
    "step2 = XGBRegressor(n_estimators=45,max_depth=5,learning_rate=0.5)\n",
    "\n",
    "pipe = Pipeline([\n",
    "    ('step1',step1),\n",
    "    ('step2',step2)\n",
    "])\n",
    "\n",
    "pipe.fit(X_train,y_train)\n",
    "\n",
    "y_pred = pipe.predict(X_test)\n",
    "\n",
    "print('R2 score',r2_score(y_test,y_pred))\n",
    "print('MAE',mean_absolute_error(y_test,y_pred))"
   ]
  },
  {
   "cell_type": "code",
   "execution_count": 245,
   "id": "7b07ce88",
   "metadata": {},
   "outputs": [],
   "source": [
    "import pickle\n",
    "\n",
    "pickle.dump(df,open('df.pkl','wb'))\n",
    "pickle.dump(pipe,open('pipe.pkl','wb'))"
   ]
  },
  {
   "cell_type": "code",
   "execution_count": 246,
   "id": "af42e8b0",
   "metadata": {},
   "outputs": [
    {
     "name": "stdout",
     "output_type": "stream",
     "text": [
      "Collecting streamlit\n",
      "  Obtaining dependency information for streamlit from https://files.pythonhosted.org/packages/34/01/9d1460a6e71d6226e1f5c5053de20758c41100c5c15abb73551273a96fb8/streamlit-1.27.2-py2.py3-none-any.whl.metadata\n",
      "  Downloading streamlit-1.27.2-py2.py3-none-any.whl.metadata (8.1 kB)\n",
      "Collecting altair<6,>=4.0 (from streamlit)\n",
      "  Obtaining dependency information for altair<6,>=4.0 from https://files.pythonhosted.org/packages/17/16/b12fca347ff9d062e3c44ad9641d2ec50364570a059f3078ada3a5119d7a/altair-5.1.2-py3-none-any.whl.metadata\n",
      "  Downloading altair-5.1.2-py3-none-any.whl.metadata (8.6 kB)\n",
      "Collecting blinker<2,>=1.0.0 (from streamlit)\n",
      "  Obtaining dependency information for blinker<2,>=1.0.0 from https://files.pythonhosted.org/packages/bf/2b/11bcedb7dee4923253a4a21bae3be854bcc4f06295bd827756352016d97c/blinker-1.6.3-py3-none-any.whl.metadata\n",
      "  Downloading blinker-1.6.3-py3-none-any.whl.metadata (1.9 kB)\n",
      "Collecting cachetools<6,>=4.0 (from streamlit)\n",
      "  Obtaining dependency information for cachetools<6,>=4.0 from https://files.pythonhosted.org/packages/a9/c9/c8a7710f2cedcb1db9224fdd4d8307c9e48cbddc46c18b515fefc0f1abbe/cachetools-5.3.1-py3-none-any.whl.metadata\n",
      "  Downloading cachetools-5.3.1-py3-none-any.whl.metadata (5.2 kB)\n",
      "Requirement already satisfied: click<9,>=7.0 in c:\\users\\hp pc\\anaconda3\\lib\\site-packages (from streamlit) (8.0.4)\n",
      "Requirement already satisfied: importlib-metadata<7,>=1.4 in c:\\users\\hp pc\\anaconda3\\lib\\site-packages (from streamlit) (6.0.0)\n",
      "Requirement already satisfied: numpy<2,>=1.19.3 in c:\\users\\hp pc\\anaconda3\\lib\\site-packages (from streamlit) (1.24.3)\n",
      "Requirement already satisfied: packaging<24,>=16.8 in c:\\users\\hp pc\\anaconda3\\lib\\site-packages (from streamlit) (23.1)\n",
      "Requirement already satisfied: pandas<3,>=1.3.0 in c:\\users\\hp pc\\anaconda3\\lib\\site-packages (from streamlit) (2.0.3)\n",
      "Requirement already satisfied: pillow<11,>=7.1.0 in c:\\users\\hp pc\\anaconda3\\lib\\site-packages (from streamlit) (9.4.0)\n",
      "Collecting protobuf<5,>=3.20 (from streamlit)\n",
      "  Obtaining dependency information for protobuf<5,>=3.20 from https://files.pythonhosted.org/packages/c2/59/f89c04923d68595d359f4cd7adbbdf5e5d791257945f8873d88b2fd1f979/protobuf-4.24.4-cp310-abi3-win_amd64.whl.metadata\n",
      "  Downloading protobuf-4.24.4-cp310-abi3-win_amd64.whl.metadata (540 bytes)\n",
      "Requirement already satisfied: pyarrow>=6.0 in c:\\users\\hp pc\\anaconda3\\lib\\site-packages (from streamlit) (11.0.0)\n",
      "Requirement already satisfied: python-dateutil<3,>=2.7.3 in c:\\users\\hp pc\\anaconda3\\lib\\site-packages (from streamlit) (2.8.2)\n",
      "Requirement already satisfied: requests<3,>=2.27 in c:\\users\\hp pc\\anaconda3\\lib\\site-packages (from streamlit) (2.31.0)\n",
      "Collecting rich<14,>=10.14.0 (from streamlit)\n",
      "  Obtaining dependency information for rich<14,>=10.14.0 from https://files.pythonhosted.org/packages/be/2a/4e62ff633612f746f88618852a626bbe24226eba5e7ac90e91dcfd6a414e/rich-13.6.0-py3-none-any.whl.metadata\n",
      "  Downloading rich-13.6.0-py3-none-any.whl.metadata (18 kB)\n",
      "Requirement already satisfied: tenacity<9,>=8.1.0 in c:\\users\\hp pc\\anaconda3\\lib\\site-packages (from streamlit) (8.2.2)\n",
      "Requirement already satisfied: toml<2,>=0.10.1 in c:\\users\\hp pc\\anaconda3\\lib\\site-packages (from streamlit) (0.10.2)\n",
      "Requirement already satisfied: typing-extensions<5,>=4.3.0 in c:\\users\\hp pc\\anaconda3\\lib\\site-packages (from streamlit) (4.7.1)\n",
      "Collecting tzlocal<6,>=1.1 (from streamlit)\n",
      "  Obtaining dependency information for tzlocal<6,>=1.1 from https://files.pythonhosted.org/packages/1c/af/343114b3ed9500b46108b56569b31a3108d3669d4fd063d9640e2c36cd57/tzlocal-5.1-py3-none-any.whl.metadata\n",
      "  Downloading tzlocal-5.1-py3-none-any.whl.metadata (16 kB)\n",
      "Collecting validators<1,>=0.2 (from streamlit)\n",
      "  Obtaining dependency information for validators<1,>=0.2 from https://files.pythonhosted.org/packages/3a/0c/785d317eea99c3739821718f118c70537639aa43f96bfa1d83a71f68eaf6/validators-0.22.0-py3-none-any.whl.metadata\n",
      "  Downloading validators-0.22.0-py3-none-any.whl.metadata (4.7 kB)\n",
      "Collecting gitpython!=3.1.19,<4,>=3.0.7 (from streamlit)\n",
      "  Obtaining dependency information for gitpython!=3.1.19,<4,>=3.0.7 from https://files.pythonhosted.org/packages/8a/7e/20f7e45878b5aed34320fbeeae8f78acc806e7bd708d00b1c6e64b016f5b/GitPython-3.1.37-py3-none-any.whl.metadata\n",
      "  Downloading GitPython-3.1.37-py3-none-any.whl.metadata (12 kB)\n",
      "Collecting pydeck<1,>=0.8.0b4 (from streamlit)\n",
      "  Downloading pydeck-0.8.1b0-py2.py3-none-any.whl (4.8 MB)\n",
      "     ---------------------------------------- 0.0/4.8 MB ? eta -:--:--\n",
      "     ---------------------------------------- 0.0/4.8 MB ? eta -:--:--\n",
      "      --------------------------------------- 0.1/4.8 MB 1.5 MB/s eta 0:00:04\n",
      "      --------------------------------------- 0.1/4.8 MB 871.5 kB/s eta 0:00:06\n",
      "     - -------------------------------------- 0.2/4.8 MB 1.2 MB/s eta 0:00:04\n",
      "     - -------------------------------------- 0.2/4.8 MB 1.1 MB/s eta 0:00:04\n",
      "     -- ------------------------------------- 0.3/4.8 MB 1.3 MB/s eta 0:00:04\n",
      "     --- ------------------------------------ 0.4/4.8 MB 1.5 MB/s eta 0:00:03\n",
      "     ---- ----------------------------------- 0.5/4.8 MB 1.6 MB/s eta 0:00:03\n",
      "     ----- ---------------------------------- 0.7/4.8 MB 1.8 MB/s eta 0:00:03\n",
      "     ------ --------------------------------- 0.8/4.8 MB 1.9 MB/s eta 0:00:03\n",
      "     -------- ------------------------------- 1.0/4.8 MB 2.0 MB/s eta 0:00:02\n",
      "     -------- ------------------------------- 1.0/4.8 MB 2.0 MB/s eta 0:00:02\n",
      "     --------- ------------------------------ 1.1/4.8 MB 2.0 MB/s eta 0:00:02\n",
      "     ---------- ----------------------------- 1.3/4.8 MB 2.1 MB/s eta 0:00:02\n",
      "     ------------ --------------------------- 1.4/4.8 MB 2.2 MB/s eta 0:00:02\n",
      "     ------------ --------------------------- 1.5/4.8 MB 2.2 MB/s eta 0:00:02\n",
      "     ------------- -------------------------- 1.6/4.8 MB 2.2 MB/s eta 0:00:02\n",
      "     ------------- -------------------------- 1.6/4.8 MB 2.1 MB/s eta 0:00:02\n",
      "     ------------- -------------------------- 1.6/4.8 MB 2.1 MB/s eta 0:00:02\n",
      "     ------------- -------------------------- 1.6/4.8 MB 2.1 MB/s eta 0:00:02\n",
      "     ------------- -------------------------- 1.6/4.8 MB 2.1 MB/s eta 0:00:02\n",
      "     ------------- -------------------------- 1.6/4.8 MB 2.1 MB/s eta 0:00:02\n",
      "     ------------- -------------------------- 1.6/4.8 MB 2.1 MB/s eta 0:00:02\n",
      "     ------------- -------------------------- 1.6/4.8 MB 2.1 MB/s eta 0:00:02\n",
      "     ------------- -------------------------- 1.6/4.8 MB 2.1 MB/s eta 0:00:02\n",
      "     ------------- -------------------------- 1.6/4.8 MB 2.1 MB/s eta 0:00:02\n",
      "     ------------- -------------------------- 1.6/4.8 MB 2.1 MB/s eta 0:00:02\n",
      "     ------------- -------------------------- 1.6/4.8 MB 2.1 MB/s eta 0:00:02\n",
      "     ------------- -------------------------- 1.6/4.8 MB 2.1 MB/s eta 0:00:02\n",
      "     ------------- -------------------------- 1.6/4.8 MB 2.1 MB/s eta 0:00:02\n",
      "     ------------- -------------------------- 1.6/4.8 MB 2.1 MB/s eta 0:00:02\n",
      "     ------------- -------------------------- 1.6/4.8 MB 2.1 MB/s eta 0:00:02\n",
      "     ------------- -------------------------- 1.6/4.8 MB 2.1 MB/s eta 0:00:02\n",
      "     ------------- -------------------------- 1.6/4.8 MB 2.1 MB/s eta 0:00:02\n",
      "     ------------- -------------------------- 1.6/4.8 MB 2.1 MB/s eta 0:00:02\n",
      "     ------------- -------------------------- 1.6/4.8 MB 2.1 MB/s eta 0:00:02\n",
      "     ------------- -------------------------- 1.6/4.8 MB 2.1 MB/s eta 0:00:02\n",
      "     ------------- -------------------------- 1.6/4.8 MB 2.1 MB/s eta 0:00:02\n",
      "     ------------- -------------------------- 1.6/4.8 MB 2.1 MB/s eta 0:00:02\n",
      "     ------------- -------------------------- 1.6/4.8 MB 2.1 MB/s eta 0:00:02\n",
      "     ------------- -------------------------- 1.6/4.8 MB 2.1 MB/s eta 0:00:02\n",
      "     ------------- -------------------------- 1.6/4.8 MB 2.1 MB/s eta 0:00:02\n",
      "     ------------- -------------------------- 1.6/4.8 MB 2.1 MB/s eta 0:00:02\n",
      "     ------------- -------------------------- 1.6/4.8 MB 2.1 MB/s eta 0:00:02\n",
      "     ------------- -------------------------- 1.6/4.8 MB 2.1 MB/s eta 0:00:02\n",
      "     ------------- -------------------------- 1.6/4.8 MB 2.1 MB/s eta 0:00:02\n",
      "     ------------- -------------------------- 1.6/4.8 MB 2.1 MB/s eta 0:00:02\n",
      "     ------------- -------------------------- 1.6/4.8 MB 2.1 MB/s eta 0:00:02\n",
      "     ------------- -------------------------- 1.6/4.8 MB 2.1 MB/s eta 0:00:02\n",
      "     ------------- -------------------------- 1.6/4.8 MB 2.1 MB/s eta 0:00:02\n",
      "     ------------- -------------------------- 1.6/4.8 MB 723.6 kB/s eta 0:00:05\n",
      "     ------------- -------------------------- 1.7/4.8 MB 712.6 kB/s eta 0:00:05\n",
      "     ------------- -------------------------- 1.7/4.8 MB 712.6 kB/s eta 0:00:05\n",
      "     ------------- -------------------------- 1.7/4.8 MB 712.6 kB/s eta 0:00:05\n",
      "     ------------- -------------------------- 1.7/4.8 MB 712.6 kB/s eta 0:00:05\n",
      "     ------------- -------------------------- 1.7/4.8 MB 712.6 kB/s eta 0:00:05\n",
      "     ------------- -------------------------- 1.7/4.8 MB 712.6 kB/s eta 0:00:05\n",
      "     -------------- ------------------------- 1.7/4.8 MB 647.4 kB/s eta 0:00:05\n",
      "     -------------- ------------------------- 1.7/4.8 MB 647.6 kB/s eta 0:00:05\n",
      "     -------------- ------------------------- 1.7/4.8 MB 640.0 kB/s eta 0:00:05\n",
      "     -------------- ------------------------- 1.8/4.8 MB 647.8 kB/s eta 0:00:05\n",
      "     --------------- ------------------------ 1.8/4.8 MB 662.8 kB/s eta 0:00:05\n",
      "     --------------- ------------------------ 1.8/4.8 MB 662.7 kB/s eta 0:00:05\n",
      "     --------------- ------------------------ 1.9/4.8 MB 659.1 kB/s eta 0:00:05\n",
      "     --------------- ------------------------ 1.9/4.8 MB 655.4 kB/s eta 0:00:05\n",
      "     --------------- ------------------------ 1.9/4.8 MB 655.4 kB/s eta 0:00:05\n",
      "     ---------------- ----------------------- 1.9/4.8 MB 648.6 kB/s eta 0:00:05\n",
      "     ---------------- ----------------------- 2.0/4.8 MB 645.1 kB/s eta 0:00:05\n",
      "     ---------------- ----------------------- 2.0/4.8 MB 645.1 kB/s eta 0:00:05\n",
      "     ---------------- ----------------------- 2.0/4.8 MB 642.1 kB/s eta 0:00:05\n",
      "     ---------------- ----------------------- 2.0/4.8 MB 642.1 kB/s eta 0:00:05\n",
      "     ---------------- ----------------------- 2.0/4.8 MB 626.5 kB/s eta 0:00:05\n",
      "     ---------------- ----------------------- 2.0/4.8 MB 626.5 kB/s eta 0:00:05\n",
      "     ---------------- ----------------------- 2.0/4.8 MB 611.9 kB/s eta 0:00:05\n",
      "     ---------------- ----------------------- 2.0/4.8 MB 611.9 kB/s eta 0:00:05\n",
      "     ---------------- ----------------------- 2.0/4.8 MB 600.7 kB/s eta 0:00:05\n",
      "     ----------------- ---------------------- 2.1/4.8 MB 599.0 kB/s eta 0:00:05\n",
      "     ----------------- ---------------------- 2.1/4.8 MB 599.8 kB/s eta 0:00:05\n",
      "     ----------------- ---------------------- 2.1/4.8 MB 594.7 kB/s eta 0:00:05\n",
      "     ----------------- ---------------------- 2.1/4.8 MB 595.3 kB/s eta 0:00:05\n",
      "     ------------------ --------------------- 2.2/4.8 MB 593.2 kB/s eta 0:00:05\n",
      "     ------------------ --------------------- 2.2/4.8 MB 593.2 kB/s eta 0:00:05\n",
      "     ------------------ --------------------- 2.2/4.8 MB 586.5 kB/s eta 0:00:05\n",
      "     ------------------ --------------------- 2.2/4.8 MB 587.9 kB/s eta 0:00:05\n",
      "     ------------------- -------------------- 2.3/4.8 MB 581.1 kB/s eta 0:00:05\n",
      "     -------------------- ------------------- 2.4/4.8 MB 583.1 kB/s eta 0:00:05\n",
      "     -------------------- ------------------- 2.5/4.8 MB 587.0 kB/s eta 0:00:04\n",
      "     --------------------- ------------------ 2.5/4.8 MB 592.5 kB/s eta 0:00:04\n",
      "     --------------------- ------------------ 2.6/4.8 MB 596.1 kB/s eta 0:00:04\n",
      "     ---------------------- ----------------- 2.6/4.8 MB 597.3 kB/s eta 0:00:04\n",
      "     ---------------------- ----------------- 2.7/4.8 MB 611.7 kB/s eta 0:00:04\n",
      "     ----------------------- ---------------- 2.8/4.8 MB 618.9 kB/s eta 0:00:04\n",
      "     ----------------------- ---------------- 2.8/4.8 MB 621.3 kB/s eta 0:00:04\n",
      "     ----------------------- ---------------- 2.9/4.8 MB 619.7 kB/s eta 0:00:04\n",
      "     ------------------------ --------------- 2.9/4.8 MB 622.1 kB/s eta 0:00:04\n",
      "     ------------------------ --------------- 2.9/4.8 MB 622.1 kB/s eta 0:00:04\n",
      "     ------------------------ --------------- 2.9/4.8 MB 622.1 kB/s eta 0:00:04\n",
      "     ------------------------ --------------- 2.9/4.8 MB 622.1 kB/s eta 0:00:04\n",
      "     ------------------------ --------------- 2.9/4.8 MB 622.1 kB/s eta 0:00:04\n",
      "     ------------------------ --------------- 2.9/4.8 MB 622.1 kB/s eta 0:00:04\n",
      "     ------------------------ --------------- 2.9/4.8 MB 622.1 kB/s eta 0:00:04\n",
      "     ------------------------ --------------- 2.9/4.8 MB 622.1 kB/s eta 0:00:04\n",
      "     ------------------------ --------------- 2.9/4.8 MB 622.1 kB/s eta 0:00:04\n",
      "     ------------------------ --------------- 2.9/4.8 MB 622.1 kB/s eta 0:00:04\n",
      "     ------------------------ --------------- 2.9/4.8 MB 622.1 kB/s eta 0:00:04\n",
      "     ------------------------ --------------- 2.9/4.8 MB 622.1 kB/s eta 0:00:04\n",
      "     ------------------------ --------------- 2.9/4.8 MB 622.1 kB/s eta 0:00:04\n",
      "     ------------------------ --------------- 2.9/4.8 MB 622.1 kB/s eta 0:00:04\n",
      "     ------------------------ --------------- 2.9/4.8 MB 622.1 kB/s eta 0:00:04\n",
      "     ------------------------ --------------- 2.9/4.8 MB 622.1 kB/s eta 0:00:04\n",
      "     ------------------------ --------------- 2.9/4.8 MB 622.1 kB/s eta 0:00:04\n",
      "     ------------------------ --------------- 2.9/4.8 MB 622.1 kB/s eta 0:00:04\n",
      "     ------------------------ --------------- 2.9/4.8 MB 528.0 kB/s eta 0:00:04\n",
      "     ------------------------ --------------- 2.9/4.8 MB 528.0 kB/s eta 0:00:04\n",
      "     ------------------------ --------------- 2.9/4.8 MB 528.0 kB/s eta 0:00:04\n",
      "     ------------------------ --------------- 2.9/4.8 MB 528.0 kB/s eta 0:00:04\n",
      "     ------------------------ --------------- 2.9/4.8 MB 528.0 kB/s eta 0:00:04\n",
      "     ------------------------ --------------- 2.9/4.8 MB 528.0 kB/s eta 0:00:04\n",
      "     ------------------------ --------------- 2.9/4.8 MB 504.4 kB/s eta 0:00:04\n",
      "     ------------------------ --------------- 2.9/4.8 MB 504.4 kB/s eta 0:00:04\n",
      "     ------------------------ --------------- 2.9/4.8 MB 504.4 kB/s eta 0:00:04\n",
      "     ------------------------ --------------- 2.9/4.8 MB 504.4 kB/s eta 0:00:04\n",
      "     ------------------------ --------------- 2.9/4.8 MB 504.4 kB/s eta 0:00:04\n",
      "     ------------------------ --------------- 2.9/4.8 MB 504.4 kB/s eta 0:00:04\n",
      "     ------------------------ --------------- 2.9/4.8 MB 504.4 kB/s eta 0:00:04\n",
      "     ------------------------ --------------- 2.9/4.8 MB 504.4 kB/s eta 0:00:04\n",
      "     ------------------------ --------------- 2.9/4.8 MB 504.4 kB/s eta 0:00:04\n",
      "     ------------------------ --------------- 2.9/4.8 MB 504.4 kB/s eta 0:00:04\n",
      "     ------------------------ --------------- 2.9/4.8 MB 504.4 kB/s eta 0:00:04\n",
      "     ------------------------ --------------- 2.9/4.8 MB 504.4 kB/s eta 0:00:04\n",
      "     ------------------------ --------------- 2.9/4.8 MB 504.4 kB/s eta 0:00:04\n",
      "     ------------------------ --------------- 2.9/4.8 MB 504.4 kB/s eta 0:00:04\n",
      "     ------------------------ --------------- 2.9/4.8 MB 504.4 kB/s eta 0:00:04\n",
      "     ------------------------ --------------- 2.9/4.8 MB 504.4 kB/s eta 0:00:04\n",
      "     ------------------------ --------------- 2.9/4.8 MB 504.4 kB/s eta 0:00:04\n",
      "     ------------------------ --------------- 2.9/4.8 MB 504.4 kB/s eta 0:00:04\n",
      "     ------------------------ --------------- 2.9/4.8 MB 445.2 kB/s eta 0:00:05\n",
      "     ------------------------ --------------- 2.9/4.8 MB 445.2 kB/s eta 0:00:05\n",
      "     ------------------------ --------------- 2.9/4.8 MB 445.2 kB/s eta 0:00:05\n",
      "     ------------------------ --------------- 2.9/4.8 MB 445.2 kB/s eta 0:00:05\n",
      "     ------------------------ --------------- 2.9/4.8 MB 445.2 kB/s eta 0:00:05\n",
      "     ------------------------ --------------- 2.9/4.8 MB 445.2 kB/s eta 0:00:05\n",
      "     ------------------------ --------------- 2.9/4.8 MB 445.2 kB/s eta 0:00:05\n",
      "     ------------------------ --------------- 2.9/4.8 MB 427.5 kB/s eta 0:00:05\n",
      "     ------------------------ --------------- 3.0/4.8 MB 427.1 kB/s eta 0:00:05\n",
      "     ------------------------ --------------- 3.0/4.8 MB 427.1 kB/s eta 0:00:05\n",
      "     ------------------------- -------------- 3.0/4.8 MB 426.2 kB/s eta 0:00:05\n",
      "     ------------------------- -------------- 3.1/4.8 MB 428.7 kB/s eta 0:00:05\n",
      "     ------------------------- -------------- 3.1/4.8 MB 433.1 kB/s eta 0:00:04\n",
      "     -------------------------- ------------- 3.1/4.8 MB 436.0 kB/s eta 0:00:04\n",
      "     -------------------------- ------------- 3.2/4.8 MB 439.7 kB/s eta 0:00:04\n",
      "     -------------------------- ------------- 3.2/4.8 MB 442.5 kB/s eta 0:00:04\n",
      "     --------------------------- ------------ 3.3/4.8 MB 446.7 kB/s eta 0:00:04\n",
      "     ---------------------------- ----------- 3.4/4.8 MB 454.0 kB/s eta 0:00:04\n",
      "     ---------------------------- ----------- 3.4/4.8 MB 462.2 kB/s eta 0:00:03\n",
      "     ----------------------------- ---------- 3.5/4.8 MB 471.3 kB/s eta 0:00:03\n",
      "     ------------------------------ --------- 3.6/4.8 MB 480.6 kB/s eta 0:00:03\n",
      "     ------------------------------ --------- 3.7/4.8 MB 485.7 kB/s eta 0:00:03\n",
      "     ------------------------------- -------- 3.8/4.8 MB 497.3 kB/s eta 0:00:03\n",
      "     -------------------------------- ------- 3.9/4.8 MB 504.9 kB/s eta 0:00:02\n",
      "     --------------------------------- ------ 4.0/4.8 MB 515.2 kB/s eta 0:00:02\n",
      "     --------------------------------- ------ 4.1/4.8 MB 525.1 kB/s eta 0:00:02\n",
      "     ---------------------------------- ----- 4.2/4.8 MB 536.4 kB/s eta 0:00:02\n",
      "     ----------------------------------- ---- 4.2/4.8 MB 543.7 kB/s eta 0:00:02\n",
      "     ------------------------------------ --- 4.3/4.8 MB 550.9 kB/s eta 0:00:01\n",
      "     ------------------------------------ --- 4.4/4.8 MB 556.7 kB/s eta 0:00:01\n",
      "     ------------------------------------- -- 4.5/4.8 MB 565.1 kB/s eta 0:00:01\n",
      "     -------------------------------------- - 4.6/4.8 MB 575.9 kB/s eta 0:00:01\n",
      "     ---------------------------------------  4.7/4.8 MB 586.5 kB/s eta 0:00:01\n",
      "     ---------------------------------------  4.8/4.8 MB 593.2 kB/s eta 0:00:01\n",
      "     ---------------------------------------- 4.8/4.8 MB 590.2 kB/s eta 0:00:00\n",
      "Requirement already satisfied: tornado<7,>=6.0.3 in c:\\users\\hp pc\\anaconda3\\lib\\site-packages (from streamlit) (6.3.2)\n",
      "Requirement already satisfied: watchdog>=2.1.5 in c:\\users\\hp pc\\anaconda3\\lib\\site-packages (from streamlit) (2.1.6)\n",
      "Requirement already satisfied: jinja2 in c:\\users\\hp pc\\anaconda3\\lib\\site-packages (from altair<6,>=4.0->streamlit) (3.1.2)\n",
      "Requirement already satisfied: jsonschema>=3.0 in c:\\users\\hp pc\\anaconda3\\lib\\site-packages (from altair<6,>=4.0->streamlit) (4.17.3)\n",
      "Requirement already satisfied: toolz in c:\\users\\hp pc\\anaconda3\\lib\\site-packages (from altair<6,>=4.0->streamlit) (0.12.0)\n",
      "Requirement already satisfied: colorama in c:\\users\\hp pc\\anaconda3\\lib\\site-packages (from click<9,>=7.0->streamlit) (0.4.6)\n",
      "Collecting gitdb<5,>=4.0.1 (from gitpython!=3.1.19,<4,>=3.0.7->streamlit)\n",
      "  Downloading gitdb-4.0.10-py3-none-any.whl (62 kB)\n",
      "     ---------------------------------------- 0.0/62.7 kB ? eta -:--:--\n",
      "     ---------------------------------------- 62.7/62.7 kB 3.3 MB/s eta 0:00:00\n",
      "Requirement already satisfied: zipp>=0.5 in c:\\users\\hp pc\\anaconda3\\lib\\site-packages (from importlib-metadata<7,>=1.4->streamlit) (3.11.0)\n",
      "Requirement already satisfied: pytz>=2020.1 in c:\\users\\hp pc\\anaconda3\\lib\\site-packages (from pandas<3,>=1.3.0->streamlit) (2023.3.post1)\n",
      "Requirement already satisfied: tzdata>=2022.1 in c:\\users\\hp pc\\anaconda3\\lib\\site-packages (from pandas<3,>=1.3.0->streamlit) (2023.3)\n",
      "Requirement already satisfied: six>=1.5 in c:\\users\\hp pc\\anaconda3\\lib\\site-packages (from python-dateutil<3,>=2.7.3->streamlit) (1.16.0)\n",
      "Requirement already satisfied: charset-normalizer<4,>=2 in c:\\users\\hp pc\\anaconda3\\lib\\site-packages (from requests<3,>=2.27->streamlit) (2.0.4)\n",
      "Requirement already satisfied: idna<4,>=2.5 in c:\\users\\hp pc\\anaconda3\\lib\\site-packages (from requests<3,>=2.27->streamlit) (3.4)\n",
      "Requirement already satisfied: urllib3<3,>=1.21.1 in c:\\users\\hp pc\\anaconda3\\lib\\site-packages (from requests<3,>=2.27->streamlit) (1.26.16)\n",
      "Requirement already satisfied: certifi>=2017.4.17 in c:\\users\\hp pc\\anaconda3\\lib\\site-packages (from requests<3,>=2.27->streamlit) (2023.7.22)\n",
      "Requirement already satisfied: markdown-it-py>=2.2.0 in c:\\users\\hp pc\\anaconda3\\lib\\site-packages (from rich<14,>=10.14.0->streamlit) (2.2.0)\n",
      "Requirement already satisfied: pygments<3.0.0,>=2.13.0 in c:\\users\\hp pc\\anaconda3\\lib\\site-packages (from rich<14,>=10.14.0->streamlit) (2.15.1)\n",
      "Collecting smmap<6,>=3.0.1 (from gitdb<5,>=4.0.1->gitpython!=3.1.19,<4,>=3.0.7->streamlit)\n",
      "  Obtaining dependency information for smmap<6,>=3.0.1 from https://files.pythonhosted.org/packages/a7/a5/10f97f73544edcdef54409f1d839f6049a0d79df68adbc1ceb24d1aaca42/smmap-5.0.1-py3-none-any.whl.metadata\n",
      "  Downloading smmap-5.0.1-py3-none-any.whl.metadata (4.3 kB)\n",
      "Requirement already satisfied: MarkupSafe>=2.0 in c:\\users\\hp pc\\anaconda3\\lib\\site-packages (from jinja2->altair<6,>=4.0->streamlit) (2.1.1)\n",
      "Requirement already satisfied: attrs>=17.4.0 in c:\\users\\hp pc\\anaconda3\\lib\\site-packages (from jsonschema>=3.0->altair<6,>=4.0->streamlit) (22.1.0)\n",
      "Requirement already satisfied: pyrsistent!=0.17.0,!=0.17.1,!=0.17.2,>=0.14.0 in c:\\users\\hp pc\\anaconda3\\lib\\site-packages (from jsonschema>=3.0->altair<6,>=4.0->streamlit) (0.18.0)\n",
      "Requirement already satisfied: mdurl~=0.1 in c:\\users\\hp pc\\anaconda3\\lib\\site-packages (from markdown-it-py>=2.2.0->rich<14,>=10.14.0->streamlit) (0.1.0)\n",
      "Downloading streamlit-1.27.2-py2.py3-none-any.whl (7.6 MB)\n",
      "   ---------------------------------------- 0.0/7.6 MB ? eta -:--:--\n",
      "    --------------------------------------- 0.1/7.6 MB 2.8 MB/s eta 0:00:03\n",
      "   - -------------------------------------- 0.3/7.6 MB 3.4 MB/s eta 0:00:03\n",
      "   -- ------------------------------------- 0.5/7.6 MB 3.1 MB/s eta 0:00:03\n",
      "   --- ------------------------------------ 0.6/7.6 MB 3.4 MB/s eta 0:00:03\n",
      "   --- ------------------------------------ 0.7/7.6 MB 3.3 MB/s eta 0:00:03\n",
      "   ---- ----------------------------------- 0.9/7.6 MB 3.2 MB/s eta 0:00:03\n",
      "   ----- ---------------------------------- 1.0/7.6 MB 2.9 MB/s eta 0:00:03\n",
      "   ----- ---------------------------------- 1.1/7.6 MB 3.0 MB/s eta 0:00:03\n",
      "   ------ --------------------------------- 1.2/7.6 MB 3.0 MB/s eta 0:00:03\n",
      "   ------- -------------------------------- 1.4/7.6 MB 3.1 MB/s eta 0:00:02\n",
      "   -------- ------------------------------- 1.6/7.6 MB 3.1 MB/s eta 0:00:02\n",
      "   --------- ------------------------------ 1.8/7.6 MB 3.2 MB/s eta 0:00:02\n",
      "   ---------- ----------------------------- 2.0/7.6 MB 3.2 MB/s eta 0:00:02\n",
      "   ----------- ---------------------------- 2.2/7.6 MB 3.3 MB/s eta 0:00:02\n",
      "   ------------ --------------------------- 2.3/7.6 MB 3.3 MB/s eta 0:00:02\n",
      "   ------------ --------------------------- 2.4/7.6 MB 3.3 MB/s eta 0:00:02\n",
      "   ------------- -------------------------- 2.6/7.6 MB 3.4 MB/s eta 0:00:02\n",
      "   -------------- ------------------------- 2.7/7.6 MB 3.3 MB/s eta 0:00:02\n",
      "   --------------- ------------------------ 2.9/7.6 MB 3.4 MB/s eta 0:00:02\n",
      "   --------------- ------------------------ 3.0/7.6 MB 3.4 MB/s eta 0:00:02\n",
      "   ---------------- ----------------------- 3.2/7.6 MB 3.4 MB/s eta 0:00:02\n",
      "   ----------------- ---------------------- 3.4/7.6 MB 3.4 MB/s eta 0:00:02\n",
      "   ------------------ --------------------- 3.5/7.6 MB 3.4 MB/s eta 0:00:02\n",
      "   ------------------- -------------------- 3.7/7.6 MB 3.5 MB/s eta 0:00:02\n",
      "   -------------------- ------------------- 3.8/7.6 MB 3.5 MB/s eta 0:00:02\n",
      "   -------------------- ------------------- 4.0/7.6 MB 3.4 MB/s eta 0:00:02\n",
      "   --------------------- ------------------ 4.1/7.6 MB 3.5 MB/s eta 0:00:01\n",
      "   ---------------------- ----------------- 4.3/7.6 MB 3.4 MB/s eta 0:00:01\n",
      "   ----------------------- ---------------- 4.5/7.6 MB 3.5 MB/s eta 0:00:01\n",
      "   ------------------------ --------------- 4.6/7.6 MB 3.5 MB/s eta 0:00:01\n",
      "   ------------------------- -------------- 4.8/7.6 MB 3.5 MB/s eta 0:00:01\n",
      "   ------------------------- -------------- 4.9/7.6 MB 3.5 MB/s eta 0:00:01\n",
      "   ------------------------- -------------- 4.9/7.6 MB 3.4 MB/s eta 0:00:01\n",
      "   ------------------------- -------------- 4.9/7.6 MB 3.4 MB/s eta 0:00:01\n",
      "   ------------------------- -------------- 4.9/7.6 MB 3.4 MB/s eta 0:00:01\n",
      "   ------------------------- -------------- 4.9/7.6 MB 3.4 MB/s eta 0:00:01\n",
      "   -------------------------- ------------- 5.0/7.6 MB 3.1 MB/s eta 0:00:01\n",
      "   -------------------------- ------------- 5.0/7.6 MB 3.0 MB/s eta 0:00:01\n",
      "   -------------------------- ------------- 5.0/7.6 MB 3.0 MB/s eta 0:00:01\n",
      "   -------------------------- ------------- 5.0/7.6 MB 3.0 MB/s eta 0:00:01\n",
      "   -------------------------- ------------- 5.0/7.6 MB 2.8 MB/s eta 0:00:01\n",
      "   -------------------------- ------------- 5.1/7.6 MB 2.7 MB/s eta 0:00:01\n",
      "   -------------------------- ------------- 5.1/7.6 MB 2.6 MB/s eta 0:00:01\n",
      "   -------------------------- ------------- 5.1/7.6 MB 2.6 MB/s eta 0:00:01\n",
      "   -------------------------- ------------- 5.1/7.6 MB 2.6 MB/s eta 0:00:01\n",
      "   --------------------------- ------------ 5.2/7.6 MB 2.5 MB/s eta 0:00:01\n",
      "   ---------------------------- ----------- 5.4/7.6 MB 2.6 MB/s eta 0:00:01\n",
      "   ----------------------------- ---------- 5.5/7.6 MB 2.6 MB/s eta 0:00:01\n",
      "   ----------------------------- ---------- 5.7/7.6 MB 2.6 MB/s eta 0:00:01\n",
      "   ------------------------------ --------- 5.8/7.6 MB 2.6 MB/s eta 0:00:01\n",
      "   ------------------------------- -------- 6.0/7.6 MB 2.6 MB/s eta 0:00:01\n",
      "   -------------------------------- ------- 6.2/7.6 MB 2.7 MB/s eta 0:00:01\n",
      "   -------------------------------- ------- 6.3/7.6 MB 2.6 MB/s eta 0:00:01\n",
      "   --------------------------------- ------ 6.5/7.6 MB 2.7 MB/s eta 0:00:01\n",
      "   ---------------------------------- ----- 6.6/7.6 MB 2.7 MB/s eta 0:00:01\n",
      "   ----------------------------------- ---- 6.8/7.6 MB 2.7 MB/s eta 0:00:01\n",
      "   ------------------------------------ --- 7.0/7.6 MB 2.7 MB/s eta 0:00:01\n",
      "   ------------------------------------- -- 7.2/7.6 MB 2.7 MB/s eta 0:00:01\n",
      "   -------------------------------------- - 7.4/7.6 MB 2.8 MB/s eta 0:00:01\n",
      "   ---------------------------------------  7.6/7.6 MB 2.8 MB/s eta 0:00:01\n",
      "   ---------------------------------------  7.6/7.6 MB 2.8 MB/s eta 0:00:01\n",
      "   ---------------------------------------- 7.6/7.6 MB 2.7 MB/s eta 0:00:00\n",
      "Downloading altair-5.1.2-py3-none-any.whl (516 kB)\n",
      "   ---------------------------------------- 0.0/516.2 kB ? eta -:--:--\n",
      "   --------------- ------------------------ 194.6/516.2 kB 3.9 MB/s eta 0:00:01\n",
      "   ---------------------- ----------------- 286.7/516.2 kB 3.5 MB/s eta 0:00:01\n",
      "   ------------------------------------ --- 471.0/516.2 kB 3.7 MB/s eta 0:00:01\n",
      "   ---------------------------------------- 516.2/516.2 kB 2.9 MB/s eta 0:00:00\n",
      "Downloading blinker-1.6.3-py3-none-any.whl (13 kB)\n",
      "Downloading cachetools-5.3.1-py3-none-any.whl (9.3 kB)\n",
      "Downloading GitPython-3.1.37-py3-none-any.whl (190 kB)\n",
      "   ---------------------------------------- 0.0/190.0 kB ? eta -:--:--\n",
      "   ---------------------------------------- 190.0/190.0 kB 3.8 MB/s eta 0:00:00\n",
      "Downloading protobuf-4.24.4-cp310-abi3-win_amd64.whl (430 kB)\n",
      "   ---------------------------------------- 0.0/430.5 kB ? eta -:--:--\n",
      "   ----------- ---------------------------- 122.9/430.5 kB 3.6 MB/s eta 0:00:01\n",
      "   ---------------------------- ----------- 307.2/430.5 kB 3.8 MB/s eta 0:00:01\n",
      "   ---------------------------------------- 430.5/430.5 kB 3.4 MB/s eta 0:00:00\n",
      "Downloading rich-13.6.0-py3-none-any.whl (239 kB)\n",
      "   ---------------------------------------- 0.0/239.8 kB ? eta -:--:--\n",
      "   ------------------------- -------------- 153.6/239.8 kB 4.6 MB/s eta 0:00:01\n",
      "   ---------------------------------------- 239.8/239.8 kB 2.9 MB/s eta 0:00:00\n",
      "Downloading tzlocal-5.1-py3-none-any.whl (21 kB)\n",
      "Downloading validators-0.22.0-py3-none-any.whl (26 kB)\n",
      "Downloading smmap-5.0.1-py3-none-any.whl (24 kB)\n",
      "Installing collected packages: validators, tzlocal, smmap, protobuf, cachetools, blinker, rich, pydeck, gitdb, gitpython, altair, streamlit\n",
      "Successfully installed altair-5.1.2 blinker-1.6.3 cachetools-5.3.1 gitdb-4.0.10 gitpython-3.1.37 protobuf-4.24.4 pydeck-0.8.1b0 rich-13.6.0 smmap-5.0.1 streamlit-1.27.2 tzlocal-5.1 validators-0.22.0\n"
     ]
    }
   ],
   "source": [
    "!pip install streamlit\n"
   ]
  },
  {
   "cell_type": "code",
   "execution_count": null,
   "id": "70e7f75b",
   "metadata": {},
   "outputs": [],
   "source": []
  }
 ],
 "metadata": {
  "kernelspec": {
   "display_name": "Python 3 (ipykernel)",
   "language": "python",
   "name": "python3"
  },
  "language_info": {
   "codemirror_mode": {
    "name": "ipython",
    "version": 3
   },
   "file_extension": ".py",
   "mimetype": "text/x-python",
   "name": "python",
   "nbconvert_exporter": "python",
   "pygments_lexer": "ipython3",
   "version": "3.11.5"
  }
 },
 "nbformat": 4,
 "nbformat_minor": 5
}
